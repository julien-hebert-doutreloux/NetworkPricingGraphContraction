{
 "cells": [
  {
   "cell_type": "code",
   "execution_count": 1,
   "id": "cc55292f-9fe6-4a16-b847-a97e77935720",
   "metadata": {},
   "outputs": [
    {
     "name": "stdout",
     "output_type": "stream",
     "text": [
      "New current directory: /home/fiftyfour/Documents/NetworkPricingGraphContraction\n",
      "Total sum of the six-digit numbers: 0\n"
     ]
    }
   ],
   "source": [
    "import os\n",
    "import sys\n",
    "os.chdir('../')\n",
    "new_current_dir = os.getcwd()  # get new current working directory\n",
    "print(\"New current directory:\", new_current_dir)\n",
    "sys.path.append('./src/python/')\n",
    "\n"
   ]
  },
  {
   "cell_type": "code",
   "execution_count": 12,
   "id": "bd3cdf4e-cd09-472a-aa51-c0801b994050",
   "metadata": {},
   "outputs": [
    {
     "name": "stdout",
     "output_type": "stream",
     "text": [
      "71484\n"
     ]
    }
   ],
   "source": [
    "total_generated = 0\n",
    "base_path = './data/generated/problems/paper/'\n",
    "for root, dirs, files in os.walk(base_path):\n",
    "    if not 'original' in root:\n",
    "        for name in filter(lambda x: 'T.pkl' in x, files):\n",
    "            total_generated+=int(name[-19:-13:])\n",
    "print(total_generated)"
   ]
  },
  {
   "cell_type": "code",
   "execution_count": 4,
   "id": "f280fed7-b61f-4fe7-a7c2-ef6089f077f2",
   "metadata": {},
   "outputs": [
    {
     "name": "stdout",
     "output_type": "stream",
     "text": [
      "Match found in 'example-123456-test-T.pkl': 123456\n",
      "Match found in 'data-000001-sample-T.pkl': 000001\n",
      "No match found in 'test-abc123-def-T.pkl'\n",
      "No match found in 'wrong-1234-5678-T.pkl'\n",
      "Match found in 'number-654321-more-text-T.pkl': 654321\n",
      "Match found in 'another-000000-T.pkl': 000000\n"
     ]
    }
   ],
   "source": [
    "\n",
    "# Example strings to test\n",
    "test_strings = [\n",
    "    \"example-123456-test-T.pkl\",\n",
    "    \"data-000001-sample-T.pkl\",\n",
    "    \"test-abc123-def-T.pkl\",  # Should not match\n",
    "    \"wrong-1234-5678-T.pkl\",   # Should not match\n",
    "    \"number-654321-more-text-T.pkl\",\n",
    "    \"another-000000-T.pkl\"     # Should match\n",
    "]\n",
    "\n",
    "# Regular expression pattern to match six-digit numbers surrounded by hyphens\n",
    "pattern = r'-(\\d{6})-'\n",
    "\n",
    "# Test the regex on each string\n",
    "for s in test_strings:\n",
    "    match = re.search(pattern, s)\n",
    "    if match:\n",
    "        print(f\"Match found in '{s}': {match.group(1)}\")\n",
    "    else:\n",
    "        print(f\"No match found in '{s}'\")"
   ]
  },
  {
   "cell_type": "code",
   "execution_count": null,
   "id": "90ca9882-5329-4ecd-ada8-b4a232e4c351",
   "metadata": {},
   "outputs": [],
   "source": []
  }
 ],
 "metadata": {
  "kernelspec": {
   "display_name": "Python 3 (ipykernel)",
   "language": "python",
   "name": "python3"
  },
  "language_info": {
   "codemirror_mode": {
    "name": "ipython",
    "version": 3
   },
   "file_extension": ".py",
   "mimetype": "text/x-python",
   "name": "python",
   "nbconvert_exporter": "python",
   "pygments_lexer": "ipython3",
   "version": "3.12.3"
  }
 },
 "nbformat": 4,
 "nbformat_minor": 5
}
