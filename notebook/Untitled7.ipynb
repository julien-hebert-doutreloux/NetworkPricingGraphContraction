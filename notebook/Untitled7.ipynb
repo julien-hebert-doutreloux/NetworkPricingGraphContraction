{
 "cells": [
  {
   "cell_type": "code",
   "execution_count": 1,
   "id": "0d617f7f-5cdb-4701-a6d8-989416fe52c5",
   "metadata": {},
   "outputs": [
    {
     "name": "stdout",
     "output_type": "stream",
     "text": [
      "New current directory: /home/fiftyfour/Documents/NetworkPricingGraphContraction\n"
     ]
    }
   ],
   "source": [
    "import os\n",
    "import sys\n",
    "os.chdir('../')\n",
    "new_current_dir = os.getcwd()  # get new current working directory\n",
    "print(\"New current directory:\", new_current_dir)\n",
    "sys.path.append('./src/python/')"
   ]
  },
  {
   "cell_type": "code",
   "execution_count": 10,
   "id": "2a64d35f-c248-4705-a6e3-4fac7e618107",
   "metadata": {},
   "outputs": [],
   "source": [
    "import glob\n",
    "result_path = '/home/fiftyfour/Documents/Archive/experience_6/max_clique_2/result/max_clique/'\n",
    "\n",
    "best_files = glob.glob(os.path.join(result_path, '*_my_max_clique_approx_best.txt'))\n",
    "initial_files = [file.replace('best', 'initial') for file in best_files]\n",
    "ny_files = [file.replace('_best', '').replace('_my_', '_nx_') for file in best_files]\n",
    "\n",
    "\n",
    "name = lambda x: os.path.splitext(os.path.basename(x[0]))[0].replace('_my_max_clique_approx_best', '')\n",
    "files = [(*x, name(x))  for x in zip(best_files, initial_files, ny_files)]"
   ]
  },
  {
   "cell_type": "code",
   "execution_count": 26,
   "id": "cff8a89e-c2f7-41fb-ab10-5e4e413eebc0",
   "metadata": {
    "scrolled": true
   },
   "outputs": [
    {
     "name": "stdout",
     "output_type": "stream",
     "text": [
      "o35-04 : 2 is not align\n",
      "j30-02 : 2 is not align\n",
      "o35-08 : 4 is not align\n",
      "k35-06 : 2 is not align\n",
      "n45-09 : 4 is not align\n",
      "m30-08 : 2 is not align\n",
      "o50-08 : 2 is not align\n",
      "o45-06 : 2 is not align\n",
      "n35-08 : 2 is not align\n",
      "o45-09 : 2 is not align\n",
      "m50-07 : 2 is not align\n",
      "l35-09 : 2 is not align\n",
      "j30-09 : 2 is not align\n",
      "n30-01 : 2 is not align\n",
      "m30-07 : 2 is not align\n",
      "o50-02 : 2 is not align\n",
      "j45-02 : 2 is not align\n",
      "o40-01 : 2 is not align\n",
      "n45-02 : 2 is not align\n",
      "o40-02 : 4 is not align\n",
      "i50-03 : 2 is not align\n",
      "n35-03 : 2 is not align\n",
      "m40-05 : 2 is not align\n"
     ]
    }
   ],
   "source": [
    "import pandas as pd\n",
    "\n",
    "for (f1, f2, f3, name) in files:\n",
    "    df1= pd.read_csv(f1, sep='\\t')\n",
    "    df2= pd.read_csv(f2, sep='\\t')\n",
    "    df3= pd.read_csv(f3, sep='\\t')\n",
    "    try:\n",
    "        match_ = ((df1['iteration'] == df2['iteration']) & (df1['iteration'] == df3['iteration']))\n",
    "        if not match_.all():\n",
    "            print(f'{name} : {(~match_).sum()} is not align')\n",
    "    except:\n",
    "        pass"
   ]
  },
  {
   "cell_type": "code",
   "execution_count": null,
   "id": "f7199ad1-ccff-4413-a134-fc7b05bb85a7",
   "metadata": {},
   "outputs": [],
   "source": []
  }
 ],
 "metadata": {
  "kernelspec": {
   "display_name": "Python 3 (ipykernel)",
   "language": "python",
   "name": "python3"
  },
  "language_info": {
   "codemirror_mode": {
    "name": "ipython",
    "version": 3
   },
   "file_extension": ".py",
   "mimetype": "text/x-python",
   "name": "python",
   "nbconvert_exporter": "python",
   "pygments_lexer": "ipython3",
   "version": "3.12.3"
  }
 },
 "nbformat": 4,
 "nbformat_minor": 5
}
