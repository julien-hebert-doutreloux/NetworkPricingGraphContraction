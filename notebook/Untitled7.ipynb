{
 "cells": [
  {
   "cell_type": "code",
   "execution_count": 1,
   "id": "0d617f7f-5cdb-4701-a6d8-989416fe52c5",
   "metadata": {},
   "outputs": [
    {
     "name": "stdout",
     "output_type": "stream",
     "text": [
      "New current directory: /home/fiftyfour/Documents/NetworkPricingGraphContraction\n"
     ]
    }
   ],
   "source": [
    "import os\n",
    "import sys\n",
    "os.chdir('../')\n",
    "new_current_dir = os.getcwd()  # get new current working directory\n",
    "print(\"New current directory:\", new_current_dir)\n",
    "sys.path.append('./src/python/')"
   ]
  },
  {
   "cell_type": "code",
   "execution_count": 10,
   "id": "2a64d35f-c248-4705-a6e3-4fac7e618107",
   "metadata": {},
   "outputs": [],
   "source": [
    "import glob\n",
    "result_path = '/home/fiftyfour/Documents/Archive/experience_6/max_clique_2/result/max_clique/'\n",
    "\n",
    "best_files = glob.glob(os.path.join(result_path, '*_my_max_clique_approx_best.txt'))\n",
    "initial_files = [file.replace('best', 'initial') for file in best_files]\n",
    "ny_files = [file.replace('_best', '').replace('_my_', '_nx_') for file in best_files]\n",
    "\n",
    "\n",
    "name = lambda x: os.path.splitext(os.path.basename(x[0]))[0].replace('_my_max_clique_approx_best', '')\n",
    "files = [(*x, name(x))  for x in zip(best_files, initial_files, ny_files)]"
   ]
  },
  {
   "cell_type": "code",
   "execution_count": null,
   "id": "cff8a89e-c2f7-41fb-ab10-5e4e413eebc0",
   "metadata": {
    "scrolled": true
   },
   "outputs": [
    {
     "name": "stdout",
     "output_type": "stream",
     "text": [
      "o35-04 : 2 is not align\n",
      "j30-02 : 2 is not align\n",
      "o35-08 : 4 is not align\n",
      "k35-06 : 2 is not align\n",
      "n45-09 : 4 is not align\n",
      "m30-08 : 2 is not align\n",
      "o50-08 : 2 is not align\n",
      "o45-06 : 2 is not align\n",
      "n35-08 : 2 is not align\n",
      "o45-09 : 2 is not align\n",
      "m50-07 : 2 is not align\n",
      "l35-09 : 2 is not align\n",
      "j30-09 : 2 is not align\n",
      "n30-01 : 2 is not align\n",
      "m30-07 : 2 is not align\n",
      "o50-02 : 2 is not align\n",
      "j45-02 : 2 is not align\n",
      "o40-01 : 2 is not align\n",
      "n45-02 : 2 is not align\n",
      "o40-02 : 4 is not align\n",
      "i50-03 : 2 is not align\n",
      "n35-03 : 2 is not align\n",
      "     lenght      time  iteration\n",
      "0        17  0.013935          1\n",
      "1        17  0.007814          2\n",
      "2        17  0.007645          3\n",
      "3        17  0.007705          4\n",
      "4        17  0.007863          5\n",
      "..      ...       ...        ...\n",
      "474      17  0.007334        236\n",
      "475      17  0.007117        237\n",
      "476      17  0.007305        238\n",
      "477      17  0.007306        239\n",
      "478      17  0.007447        240\n",
      "\n",
      "[479 rows x 3 columns]\n",
      "     lenght      time  iteration\n",
      "0        17  0.013766          1\n",
      "1        17  0.014831          2\n",
      "2        17  0.006389          3\n",
      "3        17  0.009924          4\n",
      "4        17  0.007071          5\n",
      "..      ...       ...        ...\n",
      "474      17  0.005940        236\n",
      "475      17  0.005747        237\n",
      "476      17  0.005977        238\n",
      "477      17  0.005760        239\n",
      "478      17  0.007668        240\n",
      "\n",
      "[479 rows x 3 columns]\n",
      "     lenght      time  iteration\n",
      "0        15  0.026277          1\n",
      "1        16  0.028936          2\n",
      "2        14  0.019186          3\n",
      "3        15  0.018793          4\n",
      "4        17  0.020065          5\n",
      "..      ...       ...        ...\n",
      "475      17  0.017756        236\n",
      "476      14  0.016911        237\n",
      "477      16  0.019984        238\n",
      "478      17  0.016887        239\n",
      "479      15  0.017130        240\n",
      "\n",
      "[480 rows x 3 columns]\n"
     ]
    }
   ],
   "source": [
    "import pandas as pd\n",
    "for (f1, f2, f3, name) in files:\n",
    "    df1= pd.read_csv(f1, sep='\\t')\n",
    "    df2= pd.read_csv(f2, sep='\\t')\n",
    "    df3= pd.read_csv(f3, sep='\\t')\n",
    "    try:\n",
    "        match_ = ((df1['iteration'] == df2['iteration']) & (df1['iteration'] == df3['iteration']))\n",
    "    except:\n",
    "        print(df1)\n",
    "        print(df2)\n",
    "        print(df3)\n",
    "        input()\n",
    "    if not match_.all():\n",
    "        print(f'{name} : {(~match_).sum()} is not align')"
   ]
  },
  {
   "cell_type": "code",
   "execution_count": null,
   "id": "f7199ad1-ccff-4413-a134-fc7b05bb85a7",
   "metadata": {},
   "outputs": [],
   "source": []
  }
 ],
 "metadata": {
  "kernelspec": {
   "display_name": "Python 3 (ipykernel)",
   "language": "python",
   "name": "python3"
  },
  "language_info": {
   "codemirror_mode": {
    "name": "ipython",
    "version": 3
   },
   "file_extension": ".py",
   "mimetype": "text/x-python",
   "name": "python",
   "nbconvert_exporter": "python",
   "pygments_lexer": "ipython3",
   "version": "3.12.3"
  }
 },
 "nbformat": 4,
 "nbformat_minor": 5
}
