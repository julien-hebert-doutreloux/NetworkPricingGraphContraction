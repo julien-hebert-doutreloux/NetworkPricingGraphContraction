{
 "cells": [
  {
   "cell_type": "code",
   "execution_count": 1,
   "id": "cde9888b-2e4b-4a90-ae48-271f686aadae",
   "metadata": {},
   "outputs": [
    {
     "name": "stdout",
     "output_type": "stream",
     "text": [
      "New current directory: /home/fiftyfour/Documents/NetworkPricingGraphContraction\n"
     ]
    }
   ],
   "source": [
    "import os\n",
    "import sys\n",
    "os.chdir('../')\n",
    "new_current_dir = os.getcwd()  # get new current working directory\n",
    "print(\"New current directory:\", new_current_dir)\n",
    "sys.path.append('./src/python/')\n",
    "from preamble.preamble import *\n",
    "from testing.result_processing import post_process"
   ]
  },
  {
   "cell_type": "code",
   "execution_count": 4,
   "id": "640411fe-b729-4be7-9aa0-dd00e78d7d64",
   "metadata": {},
   "outputs": [
    {
     "name": "stderr",
     "output_type": "stream",
     "text": [
      "Processing batch : 000001-000011: 100%|████████████████| 1011/1011 [00:03<00:00, 336.55it/s]\n",
      "Processing batch : 000001-000014: 100%|████████████████| 1202/1202 [00:03<00:00, 330.53it/s]\n",
      "Processing batch : 000001-000015: 100%|████████████████| 1294/1294 [00:04<00:00, 316.62it/s]\n",
      "Processing batch : 000001-000035: 100%|████████████████| 2229/2229 [00:06<00:00, 319.50it/s]\n",
      "Processing batch : 000001-000005: 100%|██████████████████| 797/797 [00:02<00:00, 312.93it/s]\n",
      "Processing batch : 000001-000034: 100%|████████████████| 1975/1975 [00:06<00:00, 315.56it/s]\n",
      "Processing batch : 000001-000000: 100%|██████████████████| 254/254 [00:00<00:00, 329.11it/s]\n",
      "Processing batch : 000001-000032: 100%|████████████████| 2313/2313 [00:07<00:00, 314.89it/s]\n",
      "Processing batch : 000001-000003: 100%|██████████████████| 257/257 [00:00<00:00, 330.13it/s]\n",
      "Processing batch : 000001-000009: 100%|██████████████████| 967/967 [00:03<00:00, 314.01it/s]\n",
      "Processing batch : 000001-000002: 100%|██████████████████| 276/276 [00:00<00:00, 331.64it/s]\n",
      "Processing batch : 000001-000039: 100%|████████████████| 2698/2698 [00:08<00:00, 314.29it/s]\n",
      "Processing batch : 000001-000001: 100%|██████████████████| 264/264 [00:00<00:00, 333.14it/s]\n",
      "Processing batch : 000001-000025: 100%|████████████████| 2921/2921 [00:09<00:00, 311.45it/s]\n",
      "Processing batch : 000001-000027: 100%|████████████████| 2574/2574 [00:08<00:00, 288.73it/s]\n",
      "Processing batch : 000001-000028: 100%|████████████████| 3326/3326 [00:10<00:00, 310.45it/s]\n",
      "Processing batch : 000001-000029: 100%|████████████████| 3428/3428 [00:10<00:00, 312.05it/s]\n",
      "Processing batch : 000001-000019: 100%|████████████████| 1183/1183 [00:03<00:00, 310.73it/s]\n",
      "Processing batch : 000001-000033: 100%|████████████████| 2224/2224 [00:07<00:00, 312.64it/s]\n",
      "Processing batch : 000001-000016: 100%|████████████████| 1097/1097 [00:03<00:00, 327.91it/s]\n",
      "Processing batch : 000001-000008: 100%|██████████████████| 973/973 [00:03<00:00, 304.34it/s]\n",
      "Processing batch : 000001-000030: 100%|████████████████| 3273/3273 [00:10<00:00, 306.57it/s]\n",
      "Processing batch : 000001-000007: 100%|██████████████████| 820/820 [00:02<00:00, 324.59it/s]\n",
      "Processing batch : 000001-000031: 100%|████████████████| 3210/3210 [00:10<00:00, 308.24it/s]\n",
      "Processing batch : 000001-000018: 100%|████████████████| 1548/1548 [00:04<00:00, 331.76it/s]\n",
      "Processing batch : 000001-000022: 100%|██████████████████| 913/913 [00:02<00:00, 339.17it/s]\n",
      "Processing batch : 000001-000036: 100%|████████████████| 2610/2610 [00:08<00:00, 308.46it/s]\n",
      "Processing batch : 000001-000004: 100%|██████████████████| 826/826 [00:02<00:00, 328.66it/s]\n",
      "Processing batch : 000001-000006: 100%|██████████████████| 800/800 [00:02<00:00, 330.14it/s]\n",
      "Processing batch : 000001-000012: 100%|████████████████| 1201/1201 [00:03<00:00, 307.85it/s]\n",
      "Processing batch : 000001-000010: 100%|████████████████| 1000/1000 [00:03<00:00, 327.86it/s]\n",
      "Processing batch : 000001-000017: 100%|████████████████| 1283/1283 [00:04<00:00, 290.25it/s]\n",
      "Processing batch : 000001-000013: 100%|████████████████| 1321/1321 [00:04<00:00, 301.17it/s]\n",
      "Processing batch : 000001-000038: 100%|████████████████| 2975/2975 [00:10<00:00, 280.18it/s]\n",
      "Processing batch : 000001-000020: 100%|████████████████| 1298/1298 [00:04<00:00, 303.72it/s]\n",
      "Processing batch : 000001-000037: 100%|████████████████| 2890/2890 [00:10<00:00, 287.94it/s]\n",
      "Processing batch : 000001-000026: 100%|████████████████| 2752/2752 [00:09<00:00, 287.33it/s]\n",
      "Processing batch : 000001-000021: 100%|████████████████| 1161/1161 [00:03<00:00, 312.93it/s]\n",
      "Processing batch : 000001-000023: 100%|██████████████████| 738/738 [00:02<00:00, 303.07it/s]\n",
      "Processing batch : 000001-000024: 100%|████████████████| 3308/3308 [00:11<00:00, 284.79it/s]\n"
     ]
    }
   ],
   "source": [
    "## Testing result_processing.post_process\n",
    "directory_input    = '/home/fiftyfour/Documents/Archive/experience_6/full_data/home/hebjul/NetworkPricingGraphContraction/data/generated/problems/paper/g45-03'\n",
    "directory_output   = './tmp'\n",
    "directory_original = '/home/fiftyfour/Documents/Archive/experience_6/full_data/home/hebjul/NetworkPricingGraphContraction/data/generated/problems/paper/original'\n",
    "output_name        = 'testing_post_process'\n",
    "\n",
    "post_process(directory_input, directory_output, directory_original, output_name)\n"
   ]
  },
  {
   "cell_type": "code",
   "execution_count": null,
   "id": "4c75639c-5af3-4fe4-a64c-0758f3fa1d66",
   "metadata": {},
   "outputs": [],
   "source": []
  }
 ],
 "metadata": {
  "kernelspec": {
   "display_name": "Python 3 (ipykernel)",
   "language": "python",
   "name": "python3"
  },
  "language_info": {
   "codemirror_mode": {
    "name": "ipython",
    "version": 3
   },
   "file_extension": ".py",
   "mimetype": "text/x-python",
   "name": "python",
   "nbconvert_exporter": "python",
   "pygments_lexer": "ipython3",
   "version": "3.12.3"
  }
 },
 "nbformat": 4,
 "nbformat_minor": 5
}
