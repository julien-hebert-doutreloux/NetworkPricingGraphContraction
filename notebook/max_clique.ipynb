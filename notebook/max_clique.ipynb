{
 "cells": [
  {
   "cell_type": "markdown",
   "id": "bc359000-dc21-489e-855f-48fef0eb5b2e",
   "metadata": {},
   "source": [
    "## Import"
   ]
  },
  {
   "cell_type": "code",
   "execution_count": 1,
   "id": "d9b345f2-efde-4879-a639-0820c391ff72",
   "metadata": {},
   "outputs": [
    {
     "name": "stdout",
     "output_type": "stream",
     "text": [
      "New current directory: /home/fiftyfour/Documents/NetworkPricingGraphContraction\n"
     ]
    }
   ],
   "source": [
    "import os\n",
    "import sys\n",
    "import glob\n",
    "import pandas as pd\n",
    "import seaborn as sns\n",
    "import matplotlib.pyplot as plt\n",
    "import matplotlib.colors as colors\n",
    "import pandas as pd\n",
    "\n",
    "os.chdir('../')\n",
    "new_current_dir = os.getcwd()  # get new current working directory\n",
    "print(\"New current directory:\", new_current_dir)\n",
    "sys.path.append('./src/python/')"
   ]
  },
  {
   "cell_type": "markdown",
   "id": "d2e705cb-5178-452f-ae17-1ac3ac357025",
   "metadata": {},
   "source": [
    "## Process data"
   ]
  },
  {
   "cell_type": "code",
   "execution_count": 2,
   "id": "0bbe8587-8324-4810-a46c-a45690336241",
   "metadata": {
    "jupyter": {
     "source_hidden": true
    }
   },
   "outputs": [],
   "source": [
    "result_path = '/home/fiftyfour/Documents/Archive/experience_6/max_clique_3/result/max_clique/'\n",
    "\n",
    "best_files = glob.glob(os.path.join(result_path, '*_my_max_clique_approx_best.txt'))\n",
    "initial_files = [file.replace('best', 'initial') for file in best_files]\n",
    "ny_files = [file.replace('_best', '').replace('_my_', '_nx_') for file in best_files]\n",
    "\n",
    "\n",
    "name = lambda x: os.path.splitext(os.path.basename(x[0]))[0].replace('_my_max_clique_approx_best', '')\n",
    "files = [(*x, name(x))  for x in zip(best_files, initial_files, ny_files)]"
   ]
  },
  {
   "cell_type": "code",
   "execution_count": null,
   "id": "3e5a15b8-9be0-46b6-a93a-bc35d97a8203",
   "metadata": {
    "jupyter": {
     "source_hidden": true
    }
   },
   "outputs": [],
   "source": [
    "def merging(best_file, initial_file, nx_file, name):\n",
    "\n",
    "    # same dimension\n",
    "    df1 = pd.read_csv(best_file, sep='\\t')    # maximum clique V2 results\n",
    "    df2 = pd.read_csv(initial_file, sep='\\t') # maximum clique V1 results\n",
    "    df3 = pd.read_csv(nx_file, sep='\\t')      # networkx\n",
    "\n",
    "    if ((df1.shape == df2.shape) and (df1.shape == df3.shape) and (df3.shape == df2.shape)):\n",
    "        \n",
    "        all_equal = (df1['iteration'] == df2['iteration']) & (df1['iteration'] == df3['iteration'])\n",
    "        \n",
    "        df1 = df1[all_equal].drop(columns=['iteration'])\n",
    "        df2 = df2[all_equal].drop(columns=['iteration'])\n",
    "        df3 = df3[all_equal].drop(columns=['iteration'])\n",
    "\n",
    "        # Rename the 'time' column in each DataFrame\n",
    "        df1.rename(columns={'time': 'best_time', 'length': 'best_length',}, inplace=True)\n",
    "        df2.rename(columns={'time': 'initial_time', 'length': 'initial_length',}, inplace=True)\n",
    "        df3.rename(columns={'time': 'nx_time', 'length': 'nx_length',}, inplace=True)\n",
    "    \n",
    "        # Merge them side by side\n",
    "        merged_df = pd.concat([df1, df2, df3], axis=1)\n",
    "        merged_df['name'] = name\n",
    "    \n",
    "        # # Optionally, save the merged DataFrame to a new CSV file\n",
    "        # merged_df.to_csv('./result/max_clique/merged_output.csv', index=False)\n",
    "        return merged_df\n",
    "    print(name)\n",
    "    return None\n",
    "\n",
    "merged_df_list = []\n",
    "for args in files:\n",
    "    merged_df_list.append(merging(*args))\n",
    "    \n",
    "big_merged_df = pd.concat(merged_df_list, axis=0)\n",
    "big_merged_df"
   ]
  },
  {
   "cell_type": "markdown",
   "id": "aa7a7565-2dfd-4fdc-b1b1-a23ad9f826ae",
   "metadata": {},
   "source": [
    "## Figure"
   ]
  },
  {
   "cell_type": "code",
   "execution_count": 70,
   "id": "cf1ca88c-e584-4847-a372-91708dcefda1",
   "metadata": {
    "jupyter": {
     "source_hidden": true
    }
   },
   "outputs": [],
   "source": [
    "## Plot settings\n",
    "\n",
    "# Define colors for each dataset\n",
    "colors = ['blue', 'orange']#, 'green']\n",
    "\n",
    "params = {\n",
    "    'backend': 'pdf',\n",
    "    #'axes.labelsize': 12,\n",
    "    # 'text.fontsize': 12,\n",
    "    # 'legend.fontsize': 12,\n",
    "    # 'xtick.labelsize': 10,\n",
    "    # 'ytick.labelsize': 10,\n",
    "    'text.usetex': True,\n",
    "    'axes.unicode_minus': True,\n",
    "    'font.family': 'serif',  # Use serif fonts\n",
    "    'font.serif': ['Computer Modern Roman'],  # Specify LaTeX serif font\n",
    "    'font.sans-serif': ['Computer Modern Sans Serif'],  # Optional\n",
    "    'font.monospace': ['Computer Modern Typewriter']  # Optional\n",
    "}\n",
    "\n",
    "plt.rcParams.update(params)\n",
    "\n",
    "\n",
    "title_font_size   = 32\n",
    "legend_label_size = 28\n",
    "label_font_size   = 42\n",
    "tick_font_size    = 35\n",
    "\n",
    "# Load the merged DataFrame\n",
    "merged_df = big_merged_df\n",
    "#merged_df = pd.read_csv('./result/max_clique/merged_output.csv', index_col='iteration')"
   ]
  },
  {
   "cell_type": "code",
   "execution_count": null,
   "id": "f4053e5a-1c1d-4ae2-ab11-bbd0f729cd00",
   "metadata": {
    "jupyter": {
     "source_hidden": true
    }
   },
   "outputs": [],
   "source": [
    "### Distribution of percentage increase in execution time and maximum click size compared with the library networkx algorithm\n",
    "# Create subplots with shared y-axis\n",
    "fig, (ax1, ax2) = plt.subplots(1, 2, sharey=True, figsize=(25, 10))\n",
    "\n",
    "# Distribution plot for time\n",
    "# plt.subplot(1, 2, 1)\n",
    "sns.histplot(100*(merged_df['initial_time']-merged_df['nx_time'])/merged_df['nx_time'], bins=40, kde=False,alpha=0.5, color=colors[0], label='V1', ax=ax1)\n",
    "sns.histplot(100*(merged_df['best_time']-merged_df['nx_time'])/merged_df['nx_time'], bins=40, kde=False, alpha=0.5,color=colors[1], label='V2', ax=ax1)\n",
    "ax1.set_xlabel(\"Augmentation relative du temps (\\\\%)\", fontsize=label_font_size)\n",
    "ax1.set_ylabel('Fréquence', fontsize=label_font_size)\n",
    "\n",
    "# Rotate x-tick labels for ax1\n",
    "for label in ax1.get_xticklabels():\n",
    "    label.set_rotation(45)\n",
    "    label.set_horizontalalignment('center')\n",
    "\n",
    "ax1.tick_params(axis='both', labelsize=tick_font_size)\n",
    "\n",
    "# Distribution plot for length\n",
    "# plt.subplot(1, 2, 2)\n",
    "sns.histplot(100*(merged_df['initial_length']-merged_df['nx_length'])/merged_df['nx_length'], bins=40, kde=False,alpha=0.5, color=colors[0], label='V1',ax=ax2)\n",
    "sns.histplot(100*(merged_df['best_length']-merged_df['nx_length'])/merged_df['nx_length'], bins=40, kde=False,alpha=0.5, color=colors[1], label='V2', ax=ax2)\n",
    "ax2.set_xlabel(\"Augmentation relative de la taille (\\\\%)\", fontsize=label_font_size)\n",
    "\n",
    "# Rotate x-tick labels for ax1\n",
    "for label in ax2.get_xticklabels():\n",
    "    label.set_rotation(45)\n",
    "    label.set_horizontalalignment('center')\n",
    "\n",
    "ax2.tick_params(axis='both', labelsize=tick_font_size)\n",
    "ax2.legend(fontsize=legend_label_size)\n",
    "\n",
    "\n",
    "plt.tight_layout()\n",
    "plt.subplots_adjust(wspace=0, hspace=0)\n",
    "fig.align_xlabels([ax1, ax2])\n",
    "# Save the figure\n",
    "plt.savefig('./result/distribution_relative_increase_time_length.pdf', bbox_inches='tight')\n",
    "plt.close()"
   ]
  }
 ],
 "metadata": {
  "kernelspec": {
   "display_name": "Python 3 (ipykernel)",
   "language": "python",
   "name": "python3"
  },
  "language_info": {
   "codemirror_mode": {
    "name": "ipython",
    "version": 3
   },
   "file_extension": ".py",
   "mimetype": "text/x-python",
   "name": "python",
   "nbconvert_exporter": "python",
   "pygments_lexer": "ipython3",
   "version": "3.12.3"
  }
 },
 "nbformat": 4,
 "nbformat_minor": 5
}
