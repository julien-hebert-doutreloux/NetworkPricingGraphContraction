{
 "cells": [
  {
   "cell_type": "code",
   "execution_count": 1,
   "id": "59bf2491-958f-487c-8d5f-34ab60d6360d",
   "metadata": {},
   "outputs": [
    {
     "name": "stdout",
     "output_type": "stream",
     "text": [
      "New current directory: /home/fiftyfour/Documents/NetworkPricingGraphContraction\n"
     ]
    }
   ],
   "source": [
    "import os\n",
    "import sys\n",
    "os.chdir('../')\n",
    "new_current_dir = os.getcwd()  # get new current working directory\n",
    "print(\"New current directory:\", new_current_dir)\n",
    "sys.path.append('./src/python/')"
   ]
  },
  {
   "cell_type": "code",
   "execution_count": 2,
   "id": "6698fece-bd7d-4648-b5cb-ce68fcc86580",
   "metadata": {},
   "outputs": [],
   "source": [
    "from preamble.preamble import *\n",
    "from gamma.gamma import GammaNPP\n",
    "from gamma.rules import make_rules, Rules, readable_rules\n",
    "from gamma.common import npp_from_json, set_of_frozenset"
   ]
  },
  {
   "cell_type": "code",
   "execution_count": 3,
   "id": "0c23747f-3c6b-4f96-ba4c-c069c042dbd0",
   "metadata": {},
   "outputs": [],
   "source": [
    "file_npp = './data/from_github/problems/comm-heavy/i120-02.json'\n",
    "# 1) Import problem\n",
    "nodes, edges, problems = npp_from_json(file_npp)\n",
    "\n",
    "# 2) Preprocess the problem\n",
    "# only integer cost and demand\n",
    "for edge in edges:\n",
    "    edge.cost = max(int(round(edge.cost, 0)), 1)\n",
    "for problem in problems:\n",
    "    problem['demand'] = max(int(round(problem['demand'], 0)), 1)"
   ]
  },
  {
   "cell_type": "code",
   "execution_count": 4,
   "id": "c558e809-3eef-493c-a0e4-ffd511150e55",
   "metadata": {},
   "outputs": [
    {
     "name": "stdout",
     "output_type": "stream",
     "text": [
      "('22', {'22'})\n",
      "('25', {'25'})\n",
      "('92', {'92'})\n",
      "('95', {'95'})\n",
      "('26', {'26'})\n",
      "('29', {'29'})\n",
      "('53', {'53'})\n",
      "('72', {'72'})\n",
      "('56', {'56'})\n",
      "('59', {'59'})\n",
      "('74', {'74'})\n",
      "('77', {'77'})\n",
      "('109', {'109'})\n",
      "('111', {'111'})\n",
      "('75', {'75'})\n",
      "('88', {'88'})\n",
      "('91', {'91'})\n",
      "('94', {'94'})\n",
      "('31', {'31'})\n",
      "('50', {'50'})\n",
      "('66', {'66'})\n",
      "('69', {'69'})\n",
      "('11', {'11'})\n",
      "('28', {'28'})\n",
      "\n",
      "('22', ['22 : 8 --> 9'])\n",
      "('25', ['25 : 9 --> 8'])\n",
      "('92', ['92 : 27 --> 28'])\n",
      "('95', ['95 : 28 --> 27'])\n",
      "('26', ['26 : 9 --> 10'])\n",
      "('29', ['29 : 10 --> 9'])\n",
      "('53', ['53 : 16 --> 22'])\n",
      "('72', ['72 : 22 --> 16'])\n",
      "('56', ['56 : 17 --> 18'])\n",
      "('59', ['59 : 18 --> 17'])\n",
      "('74', ['74 : 22 --> 23'])\n",
      "('77', ['77 : 23 --> 22'])\n",
      "('109', ['109 : 32 --> 33'])\n",
      "('111', ['111 : 33 --> 32'])\n",
      "('75', ['75 : 22 --> 28'])\n",
      "('88', ['88 : 26 --> 27'])\n",
      "('91', ['91 : 27 --> 26'])\n",
      "('94', ['94 : 28 --> 22'])\n",
      "('31', ['31 : 10 --> 16'])\n",
      "('50', ['50 : 16 --> 10'])\n",
      "('66', ['66 : 20 --> 21'])\n",
      "('69', ['69 : 21 --> 20'])\n",
      "('11', ['11 : 4 --> 10'])\n",
      "('28', ['28 : 10 --> 4'])\n"
     ]
    }
   ],
   "source": [
    "rules = Rules(make_rules(edges, 1,1,1,1))\n",
    "print(*readable_rules(rules).items(), sep='\\n')\n",
    "print()\n",
    "rules_src_dst = {str(k) : [e() for e in v] for k,v in rules.items()}\n",
    "print(*rules_src_dst.items(), sep='\\n')"
   ]
  },
  {
   "cell_type": "code",
   "execution_count": 5,
   "id": "d7d54ab4-f21c-40c4-8b98-fe3ad81c29eb",
   "metadata": {},
   "outputs": [
    {
     "name": "stderr",
     "output_type": "stream",
     "text": [
      "2024-04-19 12:47:28,716:gamma.rules:number of partition found: 0\n"
     ]
    }
   ],
   "source": [
    "x = rules.random_partition(500, 2, 0, 0, 1)\n",
    "for y in x:\n",
    "    y = [[e() for e in ss] for ss in y]\n",
    "    print(*y, sep='\\n')\n",
    "    print()"
   ]
  },
  {
   "cell_type": "markdown",
   "id": "fb99767c-1556-413f-821b-5af0bbf54824",
   "metadata": {},
   "source": [
    "# "
   ]
  }
 ],
 "metadata": {
  "kernelspec": {
   "display_name": "venv",
   "language": "python",
   "name": "venv"
  },
  "language_info": {
   "codemirror_mode": {
    "name": "ipython",
    "version": 3
   },
   "file_extension": ".py",
   "mimetype": "text/x-python",
   "name": "python",
   "nbconvert_exporter": "python",
   "pygments_lexer": "ipython3",
   "version": "3.12.2"
  }
 },
 "nbformat": 4,
 "nbformat_minor": 5
}
