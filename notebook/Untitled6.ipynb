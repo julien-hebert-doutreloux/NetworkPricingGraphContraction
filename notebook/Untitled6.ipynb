{
 "cells": [
  {
   "cell_type": "code",
   "execution_count": 112,
   "id": "53dff136-d51f-4775-8be8-f8c8a004b04d",
   "metadata": {},
   "outputs": [
    {
     "name": "stdout",
     "output_type": "stream",
     "text": [
      "MINH-MODEL\n",
      "Gurobi Optimizer version 11.0.0 build v11.0.0rc2 (linux64 - \"Ubuntu 24.04 LTS\")\n",
      "\n",
      "CPU model: 13th Gen Intel(R) Core(TM) i5-1340P, instruction set [SSE2|AVX|AVX2]\n",
      "Thread count: 16 physical cores, 16 logical processors, using up to 16 threads\n",
      "\n",
      "Optimize a model with 2181 rows, 1697 columns and 6442 nonzeros\n",
      "Model fingerprint: 0x752a9b10\n",
      "Variable types: 1450 continuous, 247 integer (247 binary)\n",
      "Coefficient statistics:\n",
      "  Matrix range     [1e+00, 1e+02]\n",
      "  Objective range  [2e+00, 3e+03]\n",
      "  Bounds range     [1e+00, 1e+02]\n",
      "  RHS range        [1e-10, 1e+02]\n",
      "Presolve removed 756 rows and 719 columns\n",
      "Presolve time: 0.02s\n",
      "Presolved: 1425 rows, 978 columns, 4587 nonzeros\n",
      "Variable types: 706 continuous, 272 integer (272 binary)\n",
      "\n",
      "Root relaxation: objective 9.206241e+04, 781 iterations, 0.01 seconds (0.01 work units)\n",
      "\n",
      "    Nodes    |    Current Node    |     Objective Bounds      |     Work\n",
      " Expl Unexpl |  Obj  Depth IntInf | Incumbent    BestBd   Gap | It/Node Time\n",
      "\n",
      "     0     0 92062.4052    0   85          - 92062.4052      -     -    0s\n",
      "H    0     0                    56572.000000 92062.4052  62.7%     -    0s\n",
      "H    0     0                    62471.000000 89756.3468  43.7%     -    0s\n",
      "     0     0 89756.3468    0   93 62471.0000 89756.3468  43.7%     -    0s\n",
      "H    0     0                    71586.000000 88851.9713  24.1%     -    0s\n",
      "     0     0 88851.9713    0   79 71586.0000 88851.9713  24.1%     -    0s\n",
      "     0     0 88851.9713    0   79 71586.0000 88851.9713  24.1%     -    0s\n",
      "     0     0 88352.6672    0  111 71586.0000 88352.6672  23.4%     -    0s\n",
      "     0     0 88100.0666    0   86 71586.0000 88100.0666  23.1%     -    0s\n",
      "     0     0 88094.7675    0   85 71586.0000 88094.7675  23.1%     -    0s\n",
      "     0     0 88091.0152    0   85 71586.0000 88091.0152  23.1%     -    0s\n",
      "H    0     0                    81532.000000 87708.4308  7.58%     -    0s\n",
      "     0     0 87569.3561    0   89 81532.0000 87569.3561  7.40%     -    0s\n",
      "     0     0 87486.1960    0   89 81532.0000 87486.1960  7.30%     -    0s\n",
      "     0     2 87486.1960    0   89 81532.0000 87486.1960  7.30%     -    0s\n",
      "H   38    34                    82294.000000 86502.7649  5.11%  70.4    0s\n",
      "H   43    34                    83174.000000 86502.7649  4.00%  70.9    0s\n",
      "H   90    52                    83197.000000 86107.6830  3.50%  51.7    0s\n",
      "H   96    52                    83230.000000 86107.6830  3.46%  50.3    0s\n",
      "H  163    73                    83790.000000 85874.6331  2.49%  39.5    0s\n",
      "H  169    73                    83813.000000 85874.6331  2.46%  38.8    0s\n",
      "*  183    56              15    84144.000000 85874.6331  2.06%  38.1    0s\n",
      "H  228    51                    85073.000000 85471.8854  0.47%  33.4    0s\n",
      "\n",
      "Cutting planes:\n",
      "  Gomory: 17\n",
      "  Implied bound: 16\n",
      "  MIR: 31\n",
      "  Flow cover: 81\n",
      "  RLT: 45\n",
      "  Relax-and-lift: 6\n",
      "\n",
      "Explored 311 nodes (9810 simplex iterations) in 0.53 seconds (0.54 work units)\n",
      "Thread count was 16 (of 16 available processors)\n",
      "\n",
      "Solution count 10: 85073 84144 83813 ... 62471\n",
      "\n",
      "Optimal solution found (tolerance 1.00e-04)\n",
      "Best objective 8.507300000000e+04, best bound 8.507300000000e+04, gap 0.0000%\n",
      "\n",
      "User-callback calls 1521, time in user-callback 0.00 sec\n"
     ]
    }
   ],
   "source": [
    "using NetPricing, JuMP, Gurobi\n",
    "\n",
    "# Import a problem from a file\n",
    "file = \"../tmp/000000-000000-g40-05-P.json\"\n",
    "#file = \"../data/from_github/problems/paper/g40-05.json\"\n",
    "prob = read_problem(file)\n",
    "\n",
    "# Preprocess the problem for each commodity\n",
    "pprobs = preprocess(prob, maxpaths = 1000)\n",
    "\n",
    "# Create a model\n",
    "model, forms = std_model(pprobs)\n",
    "# model, forms = pastd_model(pprobs)\n",
    "# model, forms = vf_model(pprobs)\n",
    "# model, forms = pvf_model(pprobs)\n",
    "\n",
    "# Add strong bilevel feasibility (optional, only available for pastd and pvf models)\n",
    "#add_strong_bf_cuts(model, forms, maxpairs=10000, commpairs=100)\n",
    "\n",
    "# Solve the model\n",
    "optimize!(model)\n",
    "\n",
    "# Extract the result\n",
    "tvals = value.(model[:t]);                   # The prices t\n",
    "# Prend quelques seconde pour atteindre l'optimalite\n",
    "# total profit : 85073\n",
    "#"
   ]
  },
  {
   "cell_type": "code",
   "execution_count": 113,
   "id": "31393690-0dd3-4464-bec7-2bade27bea58",
   "metadata": {},
   "outputs": [
    {
     "name": "stdout",
     "output_type": "stream",
     "text": [
      "\n"
     ]
    }
   ],
   "source": [
    "k = 6\n",
    "primal_repr = primal(forms[k])              # Primal representation\n",
    "dual_repr = NetPricing.dual(forms[k])       # Dual representation\n",
    "prob_k = problem(primal_repr)               # Preprocessed problem of forms[k]\n",
    "\n",
    "primal_obj = value(primal_repr.primalobj)   # Primal objective: c' x[k]\n",
    "dual_obj = value(dual_repr.dualobj)         # Dual objective: b' λ[k]\n",
    "\n",
    "xvals = value.(primal_repr.x)               # Arc selections x[k]\n",
    "#zvals = value.(primal_repr.z)               # Path selections z[k] (only for primal-path)\n",
    "λvals = value.(dual_repr.λ)                 # Dual prices λ[k] (only for dual-arc)\n",
    "b = NetPricing.sourcesink_vector(prob_k)    # vector b source sink\n",
    "\n",
    "# Maps from indices of the preprocessed problem to those of the base problem\n",
    "Amap = used_arcs(prob_k)\n",
    "Vmap = used_nodes(prob_k)\n",
    "println()\n",
    "# Vrevmap = NetPricing.revmap(Vmap, length(nodes(prob_k)))\n",
    "# Arevmap = NetPricing.revmap(Amap, length(arcs(prob_k)))\n",
    "\n",
    "# Primal and dual objectives must satisfy: primal_obj + t' x[k] == dual_obj\n",
    "a1_k = tolled_arcs(prob_k)                  # List of tolled arcs of prob_k\n",
    "@assert(dual_obj - primal_obj ≈ sum(tvals[Amap[a]] .* xvals[a] for a in a1_k))"
   ]
  },
  {
   "cell_type": "code",
   "execution_count": 114,
   "id": "f2f90a94-6736-46c3-b67b-8b644651a916",
   "metadata": {},
   "outputs": [
    {
     "name": "stdout",
     "output_type": "stream",
     "text": [
      "Problem info\n",
      "Problem with {60 nodes, 206 arcs (42 tolled), 39 commodities}\n",
      "\n",
      "USER k=6\n",
      "Path-processed problem for k = 9 with {41 nodes, 66 arcs (17 tolled), 53 paths}\n",
      "origin\t\t\t\t\t|\t3\n",
      "destination\t\t\t\t|\t35\n",
      "\n",
      "Dual objective b' λ[k]\t\t\t|\t253.0\n",
      "Primal objective c' x[k]\t\t|\t134.0\n",
      "Profit from user b' λ[k] - c' x[k]\t|\t119.0\n",
      "-----------------------------------------------------------\n",
      "\n",
      "λvals\n",
      "length\t\t\t\t\t|\t41\n",
      "vector\t\t\t\t\t|\t[182.0, 231.0, 253.0, 194.0, 177.0, 196.0, 231.0, 223.0, 176.0, 170.0, 183.0, 196.0, 204.0, 141.0, 162.0, 168.0, 168.0, 190.0, 94.0, 114.0, 133.0, 150.0, 169.64952292644648, 59.0, 81.0, 100.0, 127.0, 108.64952292644647, 45.0, 78.0, 90.0, 100.0, 95.64952292644647, 33.0, 0.0, 57.0, 79.0, 95.0, 18.0, 31.0, 44.0]\n",
      "\n",
      "Vertices used index Vmap\n",
      "length\t\t\t\t\t|\t41\n",
      "vector\t\t\t\t\t|\t[17, 18, 19, 21, 22, 23, 24, 25, 26, 27, 28, 29, 30, 31, 32, 33, 34, 35, 36, 37, 38, 39, 40, 41, 42, 43, 44, 45, 46, 47, 48, 49, 50, 51, 52, 53, 54, 55, 57, 58, 59]\n",
      "-----------------------------------------------------------\n",
      "\n",
      "Arcs used xvals\n",
      "length\t\t\t\t\t|\t66\n",
      "vector\t\t\t\t\t|\t[0.0, 0.0, 0.0, 1.0, 0.0, 0.0, 0.0, 0.0, 1.0, 1.0, 0.0, 0.0, 0.0, 0.0, 0.0, 1.0, 0.0, 0.0, 0.0, 0.0, 0.0, 0.0, 1.0, 1.0, 0.0, 0.0, 0.0, 0.0, 0.0, 0.0, 0.0, 0.0, 1.0, 0.0, 0.0, 0.0, 0.0, 0.0, 0.0, 0.0, 0.0, 0.0, 1.0, 0.0, 0.0, 0.0, 0.0, 0.0, 0.0, 0.0, 0.0, 0.0, 1.0, 0.0, 0.0, 0.0, 0.0, 0.0, 0.0, 0.0, 0.0, 0.0, 0.0, 0.0, 0.0, 0.0]\n",
      "\n",
      "Arc index Amap\n",
      "length\t\t\t\t\t|\t66\n",
      "vector\t\t\t\t\t|\t[56, 58, 62, 64, 70, 72, 74, 76, 78, 80, 81, 82, 85, 88, 92, 96, 99, 100, 103, 106, 108, 109, 110, 112, 114, 118, 120, 121, 123, 124, 126, 127, 128, 130, 132, 134, 136, 139, 141, 142, 144, 145, 146, 148, 150, 152, 154, 156, 157, 160, 162, 163, 164, 166, 168, 170, 172, 174, 175, 177, 184, 190, 192, 196, 200, 203]\n",
      "\n",
      "Arcs used index\n",
      "Amap[xvals .== 1]\t\t\t|\t[64, 78, 80, 96, 110, 112, 128, 146, 164]\n",
      "-----------------------------------------------------------\n",
      "\n"
     ]
    }
   ],
   "source": [
    "println(\"Problem info\")\n",
    "println(prob)\n",
    "\n",
    "println()\n",
    "println(\"USER k=\",k)\n",
    "println(prob_k)\n",
    "println(\"origin\\t\\t\\t\\t\\t|\\t\",NetPricing.orig(prob_k))\n",
    "println(\"destination\\t\\t\\t\\t|\\t\",NetPricing.dest(prob_k))\n",
    "println()\n",
    "println(\"Dual objective b' λ[k]\\t\\t\\t|\\t\", dual_obj)\n",
    "println(\"Primal objective c' x[k]\\t\\t|\\t\", primal_obj)\n",
    "println(\"Profit from user b' λ[k] - c' x[k]\\t|\\t\", dual_obj-primal_obj)\n",
    "println(\"-----------------------------------------------------------\\n\")\n",
    "\n",
    "\n",
    "println(\"λvals\")\n",
    "println(\"length\\t\\t\\t\\t\\t|\\t\", length(λvals))\n",
    "println(\"vector\\t\\t\\t\\t\\t|\\t\", λvals)\n",
    "println()\n",
    "println(\"Vertices used index Vmap\")\n",
    "println(\"length\\t\\t\\t\\t\\t|\\t\", length(Vmap))\n",
    "println(\"vector\\t\\t\\t\\t\\t|\\t\", Vmap)\n",
    "println(\"-----------------------------------------------------------\\n\")\n",
    "\n",
    "println(\"Arcs used xvals\")\n",
    "println(\"length\\t\\t\\t\\t\\t|\\t\", length(xvals))\n",
    "println(\"vector\\t\\t\\t\\t\\t|\\t\", xvals)\n",
    "println()\n",
    "println(\"Arc index Amap\")\n",
    "println(\"length\\t\\t\\t\\t\\t|\\t\", length(Amap))\n",
    "println(\"vector\\t\\t\\t\\t\\t|\\t\", Amap)\n",
    "println()\n",
    "println(\"Arcs used index\")\n",
    "println(\"Amap[xvals .== 1]\\t\\t\\t|\\t\" , Amap[xvals .== 1.0])\n",
    "\n",
    "println(\"-----------------------------------------------------------\\n\")\n"
   ]
  },
  {
   "cell_type": "code",
   "execution_count": 89,
   "id": "d9b9fc04-03c1-430c-8270-7dc636cd571e",
   "metadata": {},
   "outputs": [],
   "source": [
    "# Commentaire \n",
    "# les problemes forms[k] pour k=3 retourne celui pour k=5 (il y a suppression de problemes)\n"
   ]
  },
  {
   "cell_type": "code",
   "execution_count": 37,
   "id": "0c46a91b-00da-4f30-af2d-679a2104a530",
   "metadata": {},
   "outputs": [
    {
     "data": {
      "text/plain": [
       "33-element Vector{ProblemArc}:\n",
       " Tolled arc 1 => 5 with cost 9.0\n",
       " Tolled arc 2 => 1 with cost 4.0\n",
       " Toll-free arc 3 => 2 with cost 12.0\n",
       " Tolled arc 4 => 8 with cost 5.0\n",
       " Tolled arc 5 => 4 with cost 13.0\n",
       " Toll-free arc 6 => 3 with cost 22.0\n",
       " Toll-free arc 6 => 11 with cost 8.0\n",
       " Toll-free arc 7 => 12 with cost 18.0\n",
       " Toll-free arc 8 => 7 with cost 10.0\n",
       " Tolled arc 8 => 13 with cost 7.0\n",
       " Toll-free arc 9 => 8 with cost 21.0\n",
       " Toll-free arc 9 => 14 with cost 13.0\n",
       " Toll-free arc 10 => 9 with cost 35.0\n",
       " ⋮\n",
       " Tolled arc 16 => 21 with cost 10.0\n",
       " Tolled arc 17 => 22 with cost 6.0\n",
       " Tolled arc 18 => 17 with cost 5.0\n",
       " Tolled arc 18 => 23 with cost 11.0\n",
       " Toll-free arc 19 => 18 with cost 6.0\n",
       " Toll-free arc 19 => 24 with cost 35.0\n",
       " Toll-free arc 20 => 19 with cost 13.0\n",
       " Toll-free arc 20 => 25 with cost 18.0\n",
       " Toll-free arc 21 => 20 with cost 35.0\n",
       " Toll-free arc 23 => 22 with cost 27.0\n",
       " Toll-free arc 24 => 23 with cost 19.0\n",
       " Toll-free arc 25 => 24 with cost 20.0"
      ]
     },
     "execution_count": 37,
     "metadata": {},
     "output_type": "execute_result"
    }
   ],
   "source": [
    "arcs(prob_k)"
   ]
  },
  {
   "cell_type": "code",
   "execution_count": 40,
   "id": "0365600a-9df6-45f5-8857-5f701ed9a2eb",
   "metadata": {},
   "outputs": [
    {
     "name": "stdout",
     "output_type": "stream",
     "text": [
      "[42, 44, 56, 58, 74, 85, 92, 103, 106, 108, 110]\n"
     ]
    }
   ],
   "source": [
    "println([Amap[a] for a in a1_k])"
   ]
  },
  {
   "cell_type": "code",
   "execution_count": 44,
   "id": "ec6b3ef0-3ee1-42f5-85fe-0fcc7e5f4517",
   "metadata": {},
   "outputs": [],
   "source": [
    "# Vrevmap = NetPricing.revmap(Vmap, length(nodes(prob_k)))\n",
    "# Arevmap = NetPricing.revmap(Amap, length(arcs(prob_k)));"
   ]
  },
  {
   "cell_type": "code",
   "execution_count": null,
   "id": "8f7cd357-991f-4e4a-bbb9-8642de1d34c9",
   "metadata": {},
   "outputs": [],
   "source": []
  }
 ],
 "metadata": {
  "kernelspec": {
   "display_name": "Julia 1.10.3",
   "language": "julia",
   "name": "julia-1.10"
  },
  "language_info": {
   "file_extension": ".jl",
   "mimetype": "application/julia",
   "name": "julia",
   "version": "1.10.3"
  }
 },
 "nbformat": 4,
 "nbformat_minor": 5
}
