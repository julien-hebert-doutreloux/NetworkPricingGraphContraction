{
 "cells": [
  {
   "cell_type": "code",
   "execution_count": 1,
   "id": "59bf2491-958f-487c-8d5f-34ab60d6360d",
   "metadata": {},
   "outputs": [
    {
     "name": "stdout",
     "output_type": "stream",
     "text": [
      "New current directory: /home/fiftyfour/Documents/NetworkPricingGraphContraction\n"
     ]
    }
   ],
   "source": [
    "import os\n",
    "import sys\n",
    "os.chdir('../')\n",
    "new_current_dir = os.getcwd()  # get new current working directory\n",
    "print(\"New current directory:\", new_current_dir)\n",
    "sys.path.append('./src/python/')"
   ]
  },
  {
   "cell_type": "code",
   "execution_count": 2,
   "id": "6698fece-bd7d-4648-b5cb-ce68fcc86580",
   "metadata": {},
   "outputs": [],
   "source": [
    "from preamble.preamble import *\n",
    "from gamma.gamma import GammaNPP\n",
    "from gamma.rules import make_rules, Rules, readable_rules\n",
    "from gamma.common import npp_from_json, set_of_frozenset"
   ]
  },
  {
   "cell_type": "code",
   "execution_count": 3,
   "id": "0c23747f-3c6b-4f96-ba4c-c069c042dbd0",
   "metadata": {},
   "outputs": [],
   "source": [
    "file_npp = './data/from_github/problems/comm-heavy/i120-01.json'\n",
    "# 1) Import problem\n",
    "nodes, edges, problems = npp_from_json(file_npp)\n",
    "\n",
    "# 2) Preprocess the problem\n",
    "# only integer cost and demand\n",
    "for edge in edges:\n",
    "    edge.cost = max(int(round(edge.cost, 0)), 1)\n",
    "for problem in problems:\n",
    "    problem['demand'] = max(int(round(problem['demand'], 0)), 1)"
   ]
  },
  {
   "cell_type": "code",
   "execution_count": 4,
   "id": "c558e809-3eef-493c-a0e4-ffd511150e55",
   "metadata": {},
   "outputs": [
    {
     "name": "stdout",
     "output_type": "stream",
     "text": [
      "('109', {'109'})\n",
      "('111', {'111'})\n",
      "('7', {'12', '7'})\n",
      "('9', {'9', '10'})\n",
      "('10', {'9', '10'})\n",
      "('12', {'12', '7'})\n",
      "('45', {'45'})\n",
      "('64', {'64'})\n",
      "('106', {'106'})\n",
      "('108', {'108'})\n",
      "('49', {'49'})\n",
      "('68', {'68'})\n",
      "('5', {'5'})\n",
      "('20', {'20'})\n",
      "('4', {'4'})\n",
      "('6', {'6'})\n",
      "('112', {'112'})\n",
      "('114', {'114'})\n",
      "('74', {'74'})\n",
      "('77', {'77'})\n",
      "('18', {'18'})\n",
      "('21', {'21'})\n",
      "('96', {'96'})\n",
      "('99', {'99'})\n",
      "\n",
      "('109', ['109 : 32 --> 33'])\n",
      "('111', ['111 : 33 --> 32'])\n",
      "('7', ['7 : 3 --> 4', '12 : 5 --> 4'])\n",
      "('9', ['10 : 4 --> 5', '9 : 4 --> 3'])\n",
      "('10', ['10 : 4 --> 5', '9 : 4 --> 3'])\n",
      "('12', ['7 : 3 --> 4', '12 : 5 --> 4'])\n",
      "('45', ['45 : 14 --> 20'])\n",
      "('64', ['64 : 20 --> 14'])\n",
      "('106', ['106 : 31 --> 32'])\n",
      "('108', ['108 : 32 --> 31'])\n",
      "('49', ['49 : 15 --> 21'])\n",
      "('68', ['68 : 21 --> 15'])\n",
      "('5', ['5 : 2 --> 8'])\n",
      "('20', ['20 : 8 --> 2'])\n",
      "('4', ['4 : 2 --> 3'])\n",
      "('6', ['6 : 3 --> 2'])\n",
      "('112', ['112 : 33 --> 34'])\n",
      "('114', ['114 : 34 --> 33'])\n",
      "('74', ['74 : 22 --> 23'])\n",
      "('77', ['77 : 23 --> 22'])\n",
      "('18', ['18 : 7 --> 8'])\n",
      "('21', ['21 : 8 --> 7'])\n",
      "('96', ['96 : 28 --> 29'])\n",
      "('99', ['99 : 29 --> 28'])\n"
     ]
    }
   ],
   "source": [
    "rules = Rules(make_rules(edges, 1,1,1,1))\n",
    "print(*readable_rules(rules).items(), sep='\\n')\n",
    "print()\n",
    "rules_src_dst = {str(k) : [e() for e in v] for k,v in rules.items()}\n",
    "print(*rules_src_dst.items(), sep='\\n')"
   ]
  },
  {
   "cell_type": "code",
   "execution_count": 18,
   "id": "d7d54ab4-f21c-40c4-8b98-fe3ad81c29eb",
   "metadata": {},
   "outputs": [
    {
     "name": "stderr",
     "output_type": "stream",
     "text": [
      "2024-04-19 12:36:23,276:gamma.rules:number of partition found: 1\n"
     ]
    },
    {
     "name": "stdout",
     "output_type": "stream",
     "text": [
      "['112 : 33 --> 34']\n",
      "['18 : 7 --> 8']\n",
      "['109 : 32 --> 33']\n",
      "['99 : 29 --> 28']\n",
      "['10 : 4 --> 5', '9 : 4 --> 3']\n",
      "['77 : 23 --> 22']\n",
      "['21 : 8 --> 7']\n",
      "['114 : 34 --> 33']\n",
      "['5 : 2 --> 8']\n",
      "['45 : 14 --> 20']\n",
      "['111 : 33 --> 32']\n",
      "['6 : 3 --> 2']\n",
      "['68 : 21 --> 15']\n",
      "['106 : 31 --> 32']\n",
      "['96 : 28 --> 29']\n",
      "['20 : 8 --> 2']\n",
      "['74 : 22 --> 23']\n",
      "['4 : 2 --> 3']\n",
      "['108 : 32 --> 31']\n",
      "['7 : 3 --> 4', '12 : 5 --> 4']\n",
      "['64 : 20 --> 14']\n",
      "['49 : 15 --> 21']\n",
      "\n"
     ]
    }
   ],
   "source": [
    "x = rules.random_partition(500, 2, 0, 0, 105000)\n",
    "for y in x:\n",
    "    y = [[e() for e in ss] for ss in y]\n",
    "    print(*y, sep='\\n')\n",
    "    print()"
   ]
  },
  {
   "cell_type": "markdown",
   "id": "fb99767c-1556-413f-821b-5af0bbf54824",
   "metadata": {},
   "source": [
    "# "
   ]
  }
 ],
 "metadata": {
  "kernelspec": {
   "display_name": "venv",
   "language": "python",
   "name": "venv"
  },
  "language_info": {
   "codemirror_mode": {
    "name": "ipython",
    "version": 3
   },
   "file_extension": ".py",
   "mimetype": "text/x-python",
   "name": "python",
   "nbconvert_exporter": "python",
   "pygments_lexer": "ipython3",
   "version": "3.12.2"
  }
 },
 "nbformat": 4,
 "nbformat_minor": 5
}
