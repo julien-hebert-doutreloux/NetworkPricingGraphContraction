{
 "cells": [
  {
   "cell_type": "code",
   "execution_count": 1,
   "id": "1bb60070-0d34-43e9-a05c-888e49b38d77",
   "metadata": {},
   "outputs": [],
   "source": [
    "using Pickle\n",
    "using JSON\n"
   ]
  },
  {
   "cell_type": "code",
   "execution_count": 2,
   "id": "32aa9405-9f24-4f55-94d7-57e4057159af",
   "metadata": {},
   "outputs": [],
   "source": [
    "# d_tra = Pickle.load(open(\"../tmp/data/000001-000000-000075-d30-08-T.pkl\", \"r\"));\n",
    "d_tra = JSON.parsefile(\"../tmp/data/000001-000000-000075-d30-08-T.json\");\n",
    "d_res = JSON.parsefile(\"../tmp/data/000001-000000-000075-d30-08-R.json\");\n"
   ]
  },
  {
   "cell_type": "code",
   "execution_count": 6,
   "id": "4b06baa4-070f-4913-b7ef-5231a332adee",
   "metadata": {},
   "outputs": [
    {
     "data": {
      "text/plain": [
       "Dict{String, Any} with 164 entries:\n",
       "  \"32\"  => 31\n",
       "  \"29\"  => 29\n",
       "  \"1\"   => 1\n",
       "  \"54\"  => 53\n",
       "  \"78\"  => 77\n",
       "  \"81\"  => 80\n",
       "  \"101\" => 99\n",
       "  \"2\"   => 2\n",
       "  \"105\" => 103\n",
       "  \"109\" => 107\n",
       "  \"74\"  => 73\n",
       "  \"41\"  => 40\n",
       "  \"132\" => 130\n",
       "  \"153\" => 151\n",
       "  \"65\"  => 64\n",
       "  \"155\" => 153\n",
       "  \"51\"  => 50\n",
       "  \"53\"  => 52\n",
       "  \"106\" => 104\n",
       "  \"119\" => 117\n",
       "  \"27\"  => 27\n",
       "  \"75\"  => 74\n",
       "  \"42\"  => 41\n",
       "  \"33\"  => 32\n",
       "  \"28\"  => 28\n",
       "  ⋮     => ⋮"
      ]
     },
     "execution_count": 6,
     "metadata": {},
     "output_type": "execute_result"
    }
   ],
   "source": [
    "# d_tra[\"000073-100-2-2-2-1-1-1-1-1500-d30-08\"][\"A\"]\n",
    "d_tra[\"TA\"]"
   ]
  },
  {
   "cell_type": "code",
   "execution_count": 7,
   "id": "08fe655a-4df4-49c7-b4e1-da0a949c4e48",
   "metadata": {},
   "outputs": [],
   "source": [
    "tvals = []\n",
    "for element in d_res\n",
    "    if element[\"id\"]==\"000073-100-2-2-2-1-1-1-1-1500-d30-08\"\n",
    "        tvals = element[\"tvals\"]\n",
    "    end\n",
    "end\n"
   ]
  },
  {
   "cell_type": "code",
   "execution_count": 33,
   "id": "db2f39a1-8c8c-463c-8de4-2e6e9a86ce92",
   "metadata": {},
   "outputs": [
    {
     "name": "stdout",
     "output_type": "stream",
     "text": [
      "162\n",
      "164\n"
     ]
    }
   ],
   "source": [
    "# Sachant la correspondance entre index avant et apres pour les arcs controlles\n",
    "# Reconstruire N de meme dimension que tvals, mais il est possible que tvals ne soit pas\n",
    "# de la bonne dimension, \n",
    "N = [\n",
    "    tvals[\n",
    "            d_tra[\"TA\"][string(i)]\n",
    "        ] \n",
    "    for i in range(1, length(tvals))\n",
    "]\n",
    "println(length(N))\n",
    "\n",
    "N = [N; zeros(length(d_tra[\"TA\"]) - length(N1))]\n",
    "println(length(N))\n"
   ]
  },
  {
   "cell_type": "code",
   "execution_count": null,
   "id": "5ae289a4-5e70-48f8-ade7-e6f7730cf731",
   "metadata": {},
   "outputs": [],
   "source": []
  }
 ],
 "metadata": {
  "kernelspec": {
   "display_name": "Julia 1.10.3",
   "language": "julia",
   "name": "julia-1.10"
  },
  "language_info": {
   "file_extension": ".jl",
   "mimetype": "application/julia",
   "name": "julia",
   "version": "1.10.3"
  }
 },
 "nbformat": 4,
 "nbformat_minor": 5
}
