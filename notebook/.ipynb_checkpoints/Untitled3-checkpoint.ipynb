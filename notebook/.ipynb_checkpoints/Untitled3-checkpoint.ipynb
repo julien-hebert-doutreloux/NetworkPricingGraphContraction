{
 "cells": [
  {
   "cell_type": "code",
   "execution_count": 1,
   "id": "772cf236-40f3-4fcf-8884-c64bbee88602",
   "metadata": {},
   "outputs": [
    {
     "name": "stdout",
     "output_type": "stream",
     "text": [
      "New current directory: /home/fiftyfour/Documents/NetworkPricingGraphContraction\n"
     ]
    }
   ],
   "source": [
    "import os\n",
    "import sys\n",
    "os.chdir('../')\n",
    "new_current_dir = os.getcwd()  # get new current working directory\n",
    "print(\"New current directory:\", new_current_dir)\n",
    "sys.path.append('./src/python/')\n",
    "\n",
    "# import\n",
    "from preamble.preamble import *\n",
    "from prebuilt.prepare_sh_task import prepare_sh_file"
   ]
  },
  {
   "cell_type": "code",
   "execution_count": 4,
   "id": "8cd44973-d5f0-4716-bac7-114bacd788e6",
   "metadata": {},
   "outputs": [],
   "source": [
    "# Sh prepare for original problem batch of 25\n",
    "#############################################\n",
    "directory_npp = './data/generated/problems/paper/original/'\n",
    "directory_sh  = './tmp/sh_test/'\n",
    "args = [\"module load julia\", \"module load gurobi\"]\n",
    "\n",
    "\n",
    "time_limit_jl = 1005 # sec\n",
    "len_group = 25 # must divide 200\n",
    "\n",
    "command_list = []\n",
    "\n",
    "for root, dirs, files in os.walk(directory_npp):\n",
    "    for filename in files:\n",
    "        if filename.endswith(\"P.json\"):\n",
    "\n",
    "            input_file = os.path.join(root, filename)\n",
    "            output_file = os.path.join(directory_npp, filename.replace('P.json', 'R.json'))\n",
    "            \n",
    "            command = f'julia src/julia/script.jl {input_file} {output_file} {time_limit_jl}'\n",
    "            command_list.append(command)\n",
    "\n",
    "\n",
    "time_limit_sh = len_group * time_limit_jl + 850\n",
    "h, m, s = '%02d' % (time_limit_sh // 3600), '%02d' % ((time_limit_sh % 3600) // 60), '00'\n",
    "cpu, ram = 1, 10\n",
    "split_list = [command_list[i:i+len_group] for i in range(0, len(command_list), len_group)]\n",
    "\n",
    "for i, commands in enumerate(split_list, start=1):\n",
    "    n = '%02d' % i\n",
    "    sh_file = os.path.join(directory_sh, f'original_batch_{n}.sh')\n",
    "    \n",
    "    with open(sh_file, 'w') as f:\n",
    "        commands = preamble_sh(cpu, ram, h, m, s, *args) + commands + ['sleep 750',]\n",
    "        code = '\\n'.join(commands)\n",
    "        f.write(code)\n"
   ]
  },
  {
   "cell_type": "code",
   "execution_count": 16,
   "id": "cf3d3875-9420-4d1c-bb6c-2183a999781f",
   "metadata": {},
   "outputs": [],
   "source": [
    "# Time Config for original problems\n",
    "directory_npp = './data/generated/problems/paper/original'\n",
    "config = {}\n",
    "for root, dirs, files in os.walk(directory_npp):\n",
    "    \n",
    "    for filename in files:\n",
    "        if filename.endswith(\"R.json\"):\n",
    "            \n",
    "            base_name, ext = os.path.splitext(filename)\n",
    "            _, _, *problem_name, _ = base_name.split('-')\n",
    "            problem_name = '-'.join(problem_name)\n",
    "            \n",
    "            \n",
    "            with open(os.path.join(root, filename), 'r') as f:\n",
    "                result = json.load(f)\n",
    "\n",
    "            config[problem_name] = (result['solve_time'], result['finish'])\n",
    "            \n",
    "with open('config_file_5000.pkl', 'wb') as f:\n",
    "    pickle.dump(config, f)"
   ]
  }
 ],
 "metadata": {
  "kernelspec": {
   "display_name": "venv",
   "language": "python",
   "name": "venv"
  },
  "language_info": {
   "codemirror_mode": {
    "name": "ipython",
    "version": 3
   },
   "file_extension": ".py",
   "mimetype": "text/x-python",
   "name": "python",
   "nbconvert_exporter": "python",
   "pygments_lexer": "ipython3",
   "version": "3.12.3"
  }
 },
 "nbformat": 4,
 "nbformat_minor": 5
}
