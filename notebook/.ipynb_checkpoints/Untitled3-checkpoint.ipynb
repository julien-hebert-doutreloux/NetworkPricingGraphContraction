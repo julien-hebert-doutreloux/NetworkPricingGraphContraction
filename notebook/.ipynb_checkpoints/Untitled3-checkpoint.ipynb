{
 "cells": [
  {
   "cell_type": "code",
   "execution_count": 7,
   "id": "772cf236-40f3-4fcf-8884-c64bbee88602",
   "metadata": {},
   "outputs": [
    {
     "name": "stdout",
     "output_type": "stream",
     "text": [
      "New current directory: /home/fiftyfour/Documents\n"
     ]
    }
   ],
   "source": [
    "import os\n",
    "import sys\n",
    "os.chdir('../')\n",
    "new_current_dir = os.getcwd()  # get new current working directory\n",
    "print(\"New current directory:\", new_current_dir)\n",
    "sys.path.append('./src/python/')\n",
    "\n",
    "# import\n",
    "from preamble.preamble import *\n",
    "from gamma.gamma import Gamma, GammaNPP\n",
    "from gamma.common import npp_from_dict, set_of_frozenset, to_json"
   ]
  },
  {
   "cell_type": "code",
   "execution_count": 4,
   "id": "8cd44973-d5f0-4716-bac7-114bacd788e6",
   "metadata": {},
   "outputs": [],
   "source": [
    "# Sh prepare for original problem batch of 25\n",
    "#############################################\n",
    "# ./src/python/prebuilt/prebuilt/a01_prepare_sh_original.sh"
   ]
  },
  {
   "cell_type": "code",
   "execution_count": 16,
   "id": "cf3d3875-9420-4d1c-bb6c-2183a999781f",
   "metadata": {},
   "outputs": [],
   "source": [
    "# Time Config for original problems\n",
    "directory_npp = './data/generated/problems/paper/original'\n",
    "config = {}\n",
    "for root, dirs, files in os.walk(directory_npp):\n",
    "    \n",
    "    for filename in files:\n",
    "        if filename.endswith(\"R.json\"):\n",
    "            \n",
    "            base_name, ext = os.path.splitext(filename)\n",
    "            _, _, *problem_name, _ = base_name.split('-')\n",
    "            problem_name = '-'.join(problem_name)\n",
    "            \n",
    "            \n",
    "            with open(os.path.join(root, filename), 'r') as f:\n",
    "                result = json.load(f)\n",
    "\n",
    "            config[problem_name] = (result['solve_time'], result['finish'])\n",
    "            \n",
    "with open('config_file_5000.pkl', 'wb') as f:\n",
    "    pickle.dump(config, f)"
   ]
  },
  {
   "cell_type": "code",
   "execution_count": 2,
   "id": "de06afd7-9d8b-483d-984d-b0b05a0daa32",
   "metadata": {},
   "outputs": [],
   "source": [
    "# Append TA to transformation file\n",
    "#file_problems = \"./tmp/data/000001-000000-000075-d30-08-P.pkl\"\n",
    "file_problems = 'tmp/data/000000-000000-d30-08-P.json'\n",
    "file_transformations = \"./tmp/data/000001-000000-000075-d30-08-T.pkl\"\n",
    "\n",
    "with open(file_problems, \"r\") as f:\n",
    "    problems_ = json.load(f)\n",
    "    \n",
    "with open(file_transformations, \"rb\") as f:\n",
    "    transformations_ = pickle.load(f)\n",
    "\n",
    "\n",
    "nodes, edges, problems = npp_from_dict(problems_)\n",
    "transformations = transformations_['000054-100-2-2-2-1-1-1-1-1500-d30-08']\n",
    "\n",
    "gamma_ = GammaNPP.from_transformation(nodes, edges, transformations, problems=problems)\n"
   ]
  },
  {
   "cell_type": "code",
   "execution_count": 13,
   "id": "3366fcd1-ad58-44c8-918f-57eea76880fe",
   "metadata": {},
   "outputs": [
    {
     "name": "stdout",
     "output_type": "stream",
     "text": [
      "(480, 485)\n",
      "(119, 117)\n"
     ]
    }
   ],
   "source": [
    "test_dict = gamma_.transformation_to_dict()\n",
    "\n",
    "# print(test_dict['A'] == transformations['A'])\n",
    "# print(test_dict['V'] == transformations['V'])\n",
    "# print(set_of_frozenset(transformations['RV']) == set_of_frozenset(test_dict['RV']))\n",
    "# print(test_dict['RA'] == transformations['RA'])\n",
    "print(*list(filter(lambda x: len(x)>1, test_dict['RA'])), sep='\\n')\n",
    "\n",
    "output_file = to_json(test_dict, \".././tmp/data/\", \"000001-000000-000075-d30-08-T\")\n",
    "print(output_file)"
   ]
  },
  {
   "cell_type": "code",
   "execution_count": null,
   "id": "9edd0040-8ef4-40fc-8be8-bd0a84e2fddc",
   "metadata": {},
   "outputs": [],
   "source": []
  }
 ],
 "metadata": {
  "kernelspec": {
   "display_name": "venv",
   "language": "python",
   "name": "venv"
  },
  "language_info": {
   "codemirror_mode": {
    "name": "ipython",
    "version": 3
   },
   "file_extension": ".py",
   "mimetype": "text/x-python",
   "name": "python",
   "nbconvert_exporter": "python",
   "pygments_lexer": "ipython3",
   "version": "3.12.3"
  }
 },
 "nbformat": 4,
 "nbformat_minor": 5
}
