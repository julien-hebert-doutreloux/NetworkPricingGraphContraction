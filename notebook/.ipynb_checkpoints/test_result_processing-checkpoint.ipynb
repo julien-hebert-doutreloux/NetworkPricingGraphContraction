{
 "cells": [
  {
   "cell_type": "code",
   "execution_count": 1,
   "id": "cde9888b-2e4b-4a90-ae48-271f686aadae",
   "metadata": {},
   "outputs": [
    {
     "name": "stdout",
     "output_type": "stream",
     "text": [
      "New current directory: /home/fiftyfour/Documents/NetworkPricingGraphContraction\n"
     ]
    }
   ],
   "source": [
    "import os\n",
    "import sys\n",
    "os.chdir('../')\n",
    "new_current_dir = os.getcwd()  # get new current working directory\n",
    "print(\"New current directory:\", new_current_dir)\n",
    "sys.path.append('./src/python/')\n",
    "from preamble.preamble import *\n",
    "from testing.result_processing import post_process"
   ]
  },
  {
   "cell_type": "code",
   "execution_count": 2,
   "id": "640411fe-b729-4be7-9aa0-dd00e78d7d64",
   "metadata": {},
   "outputs": [
    {
     "name": "stdout",
     "output_type": "stream",
     "text": [
      "\n",
      "/home/fiftyfour/Documents/Archive/experience_6/full_data/home/hebjul/NetworkPricingGraphContraction/data/generated/problems/paper/original/000000-000000--P.json\n",
      "Error: The specified file does not exist: /home/fiftyfour/Documents/Archive/experience_6/full_data/home/hebjul/NetworkPricingGraphContraction/data/generated/problems/paper/original/000000-000000--P.json\n"
     ]
    },
    {
     "ename": "TypeError",
     "evalue": "cannot unpack non-iterable NoneType object",
     "output_type": "error",
     "traceback": [
      "\u001b[0;31m---------------------------------------------------------------------------\u001b[0m",
      "\u001b[0;31mTypeError\u001b[0m                                 Traceback (most recent call last)",
      "Cell \u001b[0;32mIn[2], line 7\u001b[0m\n\u001b[1;32m      4\u001b[0m directory_original \u001b[38;5;241m=\u001b[39m \u001b[38;5;124m'\u001b[39m\u001b[38;5;124m/home/fiftyfour/Documents/Archive/experience_6/full_data/home/hebjul/NetworkPricingGraphContraction/data/generated/problems/paper/original/\u001b[39m\u001b[38;5;124m'\u001b[39m\n\u001b[1;32m      5\u001b[0m output_name        \u001b[38;5;241m=\u001b[39m \u001b[38;5;124m'\u001b[39m\u001b[38;5;124mtesting_post_process\u001b[39m\u001b[38;5;124m'\u001b[39m\n\u001b[0;32m----> 7\u001b[0m \u001b[43mpost_process\u001b[49m\u001b[43m(\u001b[49m\u001b[43mdirectory_input\u001b[49m\u001b[43m,\u001b[49m\u001b[43m \u001b[49m\u001b[43mdirectory_output\u001b[49m\u001b[43m,\u001b[49m\u001b[43m \u001b[49m\u001b[43mdirectory_original\u001b[49m\u001b[43m,\u001b[49m\u001b[43m \u001b[49m\u001b[43moutput_name\u001b[49m\u001b[43m)\u001b[49m\n",
      "File \u001b[0;32m~/Documents/NetworkPricingGraphContraction/src/python/testing/result_processing.py:222\u001b[0m, in \u001b[0;36mpost_process\u001b[0;34m(directory_input, directory_output, directory_original, output_name)\u001b[0m\n\u001b[1;32m    220\u001b[0m r \u001b[38;5;241m=\u001b[39m os\u001b[38;5;241m.\u001b[39mpath\u001b[38;5;241m.\u001b[39mjoin(directory_original, \u001b[38;5;124mf\u001b[39m\u001b[38;5;124m'\u001b[39m\u001b[38;5;124m000000-000000-\u001b[39m\u001b[38;5;132;01m{\u001b[39;00mproblem_name\u001b[38;5;132;01m}\u001b[39;00m\u001b[38;5;124m-R.json\u001b[39m\u001b[38;5;124m'\u001b[39m)\n\u001b[1;32m    221\u001b[0m \u001b[38;5;28mprint\u001b[39m(p)\n\u001b[0;32m--> 222\u001b[0m o_nodes, o_edges, o_problems \u001b[38;5;241m=\u001b[39m npp_from_json(p)\n\u001b[1;32m    224\u001b[0m \u001b[38;5;28;01mfor\u001b[39;00m batch_id, (p, t, r) \u001b[38;5;129;01min\u001b[39;00m ptr\u001b[38;5;241m.\u001b[39mitems():\n\u001b[1;32m    225\u001b[0m     \u001b[38;5;28mprint\u001b[39m(batch_id)\n",
      "\u001b[0;31mTypeError\u001b[0m: cannot unpack non-iterable NoneType object"
     ]
    }
   ],
   "source": [
    "## Testing result_processing.post_process\n",
    "directory_input    = '/home/fiftyfour/Documents/Archive/experience_6/full_data/home/hebjul/NetworkPricingGraphContraction/data/generated/problems/paper/g30-01'\n",
    "directory_output   = './tmp'\n",
    "directory_original = '/home/fiftyfour/Documents/Archive/experience_6/full_data/home/hebjul/NetworkPricingGraphContraction/data/generated/problems/paper/original'\n",
    "output_name        = 'testing_post_process'\n",
    "\n",
    "post_process(directory_input, directory_output, directory_original, output_name)\n"
   ]
  },
  {
   "cell_type": "code",
   "execution_count": null,
   "id": "4c75639c-5af3-4fe4-a64c-0758f3fa1d66",
   "metadata": {},
   "outputs": [],
   "source": []
  }
 ],
 "metadata": {
  "kernelspec": {
   "display_name": "Python 3 (ipykernel)",
   "language": "python",
   "name": "python3"
  },
  "language_info": {
   "codemirror_mode": {
    "name": "ipython",
    "version": 3
   },
   "file_extension": ".py",
   "mimetype": "text/x-python",
   "name": "python",
   "nbconvert_exporter": "python",
   "pygments_lexer": "ipython3",
   "version": "3.12.3"
  }
 },
 "nbformat": 4,
 "nbformat_minor": 5
}
