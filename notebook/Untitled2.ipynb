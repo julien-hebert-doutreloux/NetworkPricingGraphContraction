{
 "cells": [
  {
   "cell_type": "code",
   "execution_count": 1,
   "id": "7f4ae503-2ca4-42a2-8f8d-e7af271b063a",
   "metadata": {},
   "outputs": [
    {
     "name": "stdout",
     "output_type": "stream",
     "text": [
      "New current directory: /home/fiftyfour/Documents/NetworkPricingGraphContraction\n"
     ]
    }
   ],
   "source": [
    "import os\n",
    "import sys\n",
    "os.chdir('../')\n",
    "new_current_dir = os.getcwd()  # get new current working directory\n",
    "print(\"New current directory:\", new_current_dir)\n",
    "sys.path.append('./src/python/')\n",
    "\n",
    "# import\n",
    "from preamble.preamble import *\n",
    "from gamma.gamma import GammaNPP\n",
    "from gamma.rules import make_rules, Rules, readable_rules\n",
    "from gamma.common import npp_from_json, set_of_frozenset\n",
    "from test.problem_maker import problem_maker"
   ]
  },
  {
   "cell_type": "code",
   "execution_count": 2,
   "id": "9e9da552-4058-488d-bc6f-7160fe5e92dd",
   "metadata": {},
   "outputs": [],
   "source": [
    "file_npp = './data/from_github/problems/paper/d30-01.json'\n",
    "\n",
    "n = 50\n",
    "min_sl = 2\n",
    "max_sl = 2\n",
    "m = 4\n",
    "H1=1\n",
    "H2=1\n",
    "H3=1\n",
    "H4=1\n",
    "max_attemp = 1500\n",
    "params = [n, min_sl, max_sl, m, H1, H2, H3, H4, max_attemp]\n",
    "\n",
    "\n",
    "\n",
    "# batch_size int\n",
    "basename, file_extension = os.path.splitext(os.path.basename(file_npp))\n",
    "\n",
    "# 1) Import problem\n",
    "nodes, edges, problems = npp_from_json(file_npp)\n",
    "\n",
    "# 2) Preprocess the problem\n",
    "# only integer cost and demand\n",
    "for edge in edges:\n",
    "    edge.cost = max(int(round(edge.cost, 0)), 1)\n",
    "for problem in problems:\n",
    "    problem['demand'] = max(int(round(problem['demand'], 0)), 1)\n",
    "\n",
    "                            \n",
    "rules = make_rules(edges, *params[4:8:])\n",
    "\n",
    "rules = Rules(rules)\n",
    "difference = set(edges) - set(rules)       # {x1, x2, ...}\n",
    "singleton = set_of_frozenset([(x,) for x in difference])   # {{x1, }, {x2, }, ...}\n",
    "\n",
    "partitions = rules.random_partition(*params[:4], params[-1])"
   ]
  },
  {
   "cell_type": "code",
   "execution_count": 3,
   "id": "607edf9d-5872-46c6-91fd-1bf930fcbdf8",
   "metadata": {
    "scrolled": true
   },
   "outputs": [
    {
     "data": {
      "text/plain": [
       "[2, 2, 2, 2]"
      ]
     },
     "execution_count": 3,
     "metadata": {},
     "output_type": "execute_result"
    }
   ],
   "source": [
    "list(filter(lambda x: x==2, map(len,partitions[1])))"
   ]
  },
  {
   "cell_type": "code",
   "execution_count": null,
   "id": "5c03bedb-cf84-4221-9142-ecab031b1ab0",
   "metadata": {},
   "outputs": [],
   "source": []
  }
 ],
 "metadata": {
  "kernelspec": {
   "display_name": "venv",
   "language": "python",
   "name": "venv"
  },
  "language_info": {
   "codemirror_mode": {
    "name": "ipython",
    "version": 3
   },
   "file_extension": ".py",
   "mimetype": "text/x-python",
   "name": "python",
   "nbconvert_exporter": "python",
   "pygments_lexer": "ipython3",
   "version": "3.12.2"
  }
 },
 "nbformat": 4,
 "nbformat_minor": 5
}
