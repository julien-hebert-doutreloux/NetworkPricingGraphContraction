{
 "cells": [
  {
   "cell_type": "code",
   "execution_count": 2,
   "id": "53dff136-d51f-4775-8be8-f8c8a004b04d",
   "metadata": {
    "editable": true,
    "slideshow": {
     "slide_type": ""
    },
    "tags": []
   },
   "outputs": [
    {
     "name": "stderr",
     "output_type": "stream",
     "text": [
      "\u001b[32m\u001b[1mPrecompiling\u001b[22m\u001b[39m NetPricing\n",
      "\u001b[32m  ✓ \u001b[39mNetPricing\n",
      "  1 dependency successfully precompiled in 6 seconds. 102 already precompiled.\n"
     ]
    },
    {
     "ename": "LoadError",
     "evalue": "Expected end of input\nLine: 0\nAround: ...h\":true}][{\"id\":\"000001-000000...\n                    ^\n",
     "output_type": "error",
     "traceback": [
      "Expected end of input\nLine: 0\nAround: ...h\":true}][{\"id\":\"000001-000000...\n                    ^\n",
      "",
      "Stacktrace:",
      " [1] error(s::String)",
      "   @ Base ./error.jl:35",
      " [2] _error(message::String, ps::JSON.Parser.MemoryParserState)",
      "   @ JSON.Parser ~/.julia/packages/JSON/93Ea8/src/Parser.jl:140",
      " [3] parse(str::String; dicttype::Type, inttype::Type{Int64}, allownan::Bool, null::Nothing)",
      "   @ JSON.Parser ~/.julia/packages/JSON/93Ea8/src/Parser.jl:453",
      " [4] (::JSON.Parser.var\"#4#5\"{DataType, DataType, Nothing, Bool, Bool, Int64})(io::IOStream)",
      "   @ JSON.Parser ~/.julia/packages/JSON/93Ea8/src/Parser.jl:511",
      " [5] open(f::JSON.Parser.var\"#4#5\"{DataType, DataType, Nothing, Bool, Bool, Int64}, args::String; kwargs::@Kwargs{})",
      "   @ Base ./io.jl:396",
      " [6] open",
      "   @ ./io.jl:393 [inlined]",
      " [7] #parsefile#3",
      "   @ ~/.julia/packages/JSON/93Ea8/src/Parser.jl:509 [inlined]",
      " [8] parsefile(filename::String)",
      "   @ JSON.Parser ~/.julia/packages/JSON/93Ea8/src/Parser.jl:502",
      " [9] top-level scope",
      "   @ In[2]:5"
     ]
    }
   ],
   "source": [
    "using JSON, BenchmarkTools\n",
    "using NetPricing, JuMP, Gurobi\n",
    "\n",
    "# Import a problem from a file\n",
    "file = \"../tmp/000000-000000-g40-05-P.json\"\n",
    "#file = \"../data/from_github/problems/paper/g40-05.json\"\n",
    "# file = \"../tmp/000001-000000-000001-g40-05-P.json\"\n",
    "\n",
    "\n",
    "result = JSON.parsefile(\"../tmp/000001-000000-000001-g40-05-R.json\");\n",
    "trans = JSON.parsefile(\"../tmp/000001-000000-000001-g40-05-T.json\");\n",
    "vtrans =  trans[\"V\"];\n",
    "etrans =  trans[\"A\"];\n",
    "\n",
    "#prob = read_problem(file)\n",
    "\n",
    "# Preprocess the problem for each commodity\n",
    "#pprobs = preprocess(prob, maxpaths = 1000)\n",
    "\n",
    "# Create a model\n",
    "#model, forms = std_model(pprobs)\n",
    "# model, forms = pastd_model(pprobs)\n",
    "# model, forms = vf_model(pprobs)\n",
    "# model, forms = pvf_model(pprobs)\n",
    "\n",
    "# Add strong bilevel feasibility (optional, only available for pastd and pvf models)\n",
    "#add_strong_bf_cuts(model, forms, maxpairs=10000, commpairs=100)\n",
    "\n",
    "# Solve the model\n",
    "#optimize!(model)\n",
    "\n",
    "# Extract the result\n",
    "#tvals = value.(model[:t]);                   # The prices t"
   ]
  },
  {
   "cell_type": "code",
   "execution_count": 2,
   "id": "31393690-0dd3-4464-bec7-2bade27bea58",
   "metadata": {},
   "outputs": [],
   "source": [
    "Amap = Dict()\n",
    "Vmap = Dict()\n",
    "λvals = Dict()\n",
    "xvals = Dict()\n",
    "b = Dict()\n",
    "\n",
    "primal_obj = Dict()\n",
    "dual_obj = Dict()\n",
    "prob_tmp = Dict()\n",
    "\n",
    "for k in 1:length(forms)\n",
    "    primal_repr = primal(forms[k])              # Primal representation\n",
    "    dual_repr = NetPricing.dual(forms[k])       # Dual representation\n",
    "    prob_k = problem(primal_repr)               # Preprocessed problem of forms[k]\n",
    "    \n",
    "    real_k = NetPricing.index(prob_k)\n",
    "    prob_tmp[real_k] = prob_k\n",
    "    \n",
    "    primal_obj[real_k] = value(primal_repr.primalobj)   # Primal objective: c' x[k]\n",
    "    dual_obj[real_k] = value(dual_repr.dualobj)         # Dual objective: b' λ[k]\n",
    "        \n",
    "    real_k = NetPricing.index(prob_k)\n",
    "    Amap[real_k] = used_arcs(prob_k)\t\t    \t\t# List of edge index of the solution path\n",
    "    Vmap[real_k] = used_nodes(prob_k)\n",
    "    λvals[real_k] = value.(dual_repr.λ)                 # Dual prices λ[k] (only for dual-arc)\n",
    "    xvals[real_k] = value.(primal_repr.x)\n",
    "    b[real_k] = NetPricing.sourcesink_vector(prob_k)    # vector b source sink\n",
    "end"
   ]
  },
  {
   "cell_type": "code",
   "execution_count": 3,
   "id": "f2f90a94-6736-46c3-b67b-8b644651a916",
   "metadata": {},
   "outputs": [
    {
     "name": "stdout",
     "output_type": "stream",
     "text": [
      "Problem info\n",
      "Problem with {60 nodes, 206 arcs (42 tolled), 39 commodities}\n",
      "\n",
      "USER k=1\n",
      "Reduce problem \t\t\t\t\t\t|Transformed space\t|Original space\n",
      "origin\t\t\t\t\t|\t1\t|2\t\t\t|[\"2\"]\n",
      "destination\t\t\t\t|\t7\t|14\t\t\t|[\"14\"]\n",
      "\n",
      "Dual objective b' λ[k]\t\t\t|\t98.0\n",
      "Primal objective c' x[k]\t\t|\t98.0\n",
      "Profit from user b' λ[k] - c' x[k]\t|\t0.0\n",
      "-----------------------------------------------------------\n",
      "\n",
      "tvals\n",
      "length\t\t\t\t\t|\t42\n",
      "vector\t\t\t\t\t|\t[12.0, 34.0, 6.0, 58.0, 0.0, 38.0, 0.0, 36.0, 0.0, 83.0, 36.0, 59.0, 0.0, 12.0, 0.0, 0.0, 19.0, 4.0, 2.0, 41.0, 27.0, 23.0, 37.0, 0.0, 115.0, 49.0, 22.0, 58.0, 29.0, 0.0, 6.0, 43.0, 7.0, 10.0, 60.0, 15.0, 10.0, 53.0, 60.0, 51.0, 5.0, 27.0]\n",
      "index\t\t\t\t\t|\t[24, 31, 39, 41, 42, 44, 47, 55, 56, 57, 58, 71, 74, 85, 89, 92, 101, 103, 105, 106, 107, 108, 110, 119, 122, 125, 128, 139, 143, 146, 150, 155, 161, 163, 164, 165, 166, 179, 181, 184, 195, 197]\n",
      "\n",
      "-----------------------------------------------------------\n",
      "\n",
      "λvals\n",
      "length\t\t\t\t\t|\t7\n",
      "vector\t\t\t\t\t|\t[98.0, 86.0, 52.0, 34.0, 78.44727979895896, 46.44727979895896, 0.0]\n",
      "\n",
      "Vertices used index Vmap\n",
      "length\t\t\t\t\t|\t7\n",
      "vector\t\t\t\t\t|\t[2, 7, 8, 9, 12, 13, 14]\n",
      "-----------------------------------------------------------\n",
      "\n",
      "Arcs used xvals\n",
      "length\t\t\t\t\t|\t8\n",
      "vector\t\t\t\t\t|\t[1.0, 1.0, 0.0, 1.0, 0.0, 1.0, 0.0, 0.0]\n",
      "\n",
      "Arc index Amap\n",
      "length\t\t\t\t\t|\t8\n",
      "vector\t\t\t\t\t|\t[5, 19, 20, 23, 24, 28, 37, 41]\n",
      "\n",
      "Arcs used index\n",
      "Amap[xvals .== 1]\t\t\t|\t[5, 19, 23, 28]\n",
      "-----------------------------------------------------------\n",
      "\n"
     ]
    }
   ],
   "source": [
    "k=1\n",
    "real_k = NetPricing.index(problem(primal(forms[k])))\n",
    "origin = NetPricing.orig(prob_tmp[real_k])\n",
    "destination = NetPricing.dest(prob_tmp[real_k])\n",
    "\n",
    "op1 = [key for (key, value) in vtrans if value == Vmap[real_k][origin]]\n",
    "op2 = [key for (key, value) in vtrans if value == Vmap[real_k][destination]]\n",
    "println(\"Problem info\")\n",
    "println(prob)\n",
    "\n",
    "println()\n",
    "println(\"USER k=\",real_k)\n",
    "println(\"Reduce problem \\t\\t\\t\\t\\t\\t|Transformed space\\t|Original space\")\n",
    "println(\"origin\\t\\t\\t\\t\\t|\\t\",origin,\"\\t|\", Vmap[real_k][origin],\"\\t\\t\\t|\", op1)\n",
    "println(\"destination\\t\\t\\t\\t|\\t\",destination,\"\\t|\", Vmap[real_k][destination],\"\\t\\t\\t|\", op2)\n",
    "println()\n",
    "println(\"Dual objective b' λ[k]\\t\\t\\t|\\t\", dual_obj[real_k])\n",
    "println(\"Primal objective c' x[k]\\t\\t|\\t\", primal_obj[real_k])\n",
    "println(\"Profit from user b' λ[k] - c' x[k]\\t|\\t\", dual_obj[real_k]-primal_obj[real_k])\n",
    "println(\"-----------------------------------------------------------\\n\")\n",
    "\n",
    "\n",
    "println(\"tvals\")\n",
    "println(\"length\\t\\t\\t\\t\\t|\\t\", length(tvals))\n",
    "println(\"vector\\t\\t\\t\\t\\t|\\t\", tvals.data)\n",
    "println(\"index\\t\\t\\t\\t\\t|\\t\",  axes(tvals, 1))\n",
    "println()\n",
    "println(\"-----------------------------------------------------------\\n\")\n",
    "\n",
    "\n",
    "println(\"λvals\")\n",
    "println(\"length\\t\\t\\t\\t\\t|\\t\", length(λvals[real_k]))\n",
    "println(\"vector\\t\\t\\t\\t\\t|\\t\", λvals[real_k])\n",
    "println()\n",
    "println(\"Vertices used index Vmap\")\n",
    "println(\"length\\t\\t\\t\\t\\t|\\t\", length(Vmap[real_k]))\n",
    "println(\"vector\\t\\t\\t\\t\\t|\\t\", Vmap[real_k])\n",
    "println(\"-----------------------------------------------------------\\n\")\n",
    "\n",
    "println(\"Arcs used xvals\")\n",
    "println(\"length\\t\\t\\t\\t\\t|\\t\", length(xvals[real_k]))\n",
    "println(\"vector\\t\\t\\t\\t\\t|\\t\", xvals[real_k])\n",
    "println()\n",
    "println(\"Arc index Amap\")\n",
    "println(\"length\\t\\t\\t\\t\\t|\\t\", length(Amap[real_k]))\n",
    "println(\"vector\\t\\t\\t\\t\\t|\\t\", Amap[real_k])\n",
    "println()\n",
    "println(\"Arcs used index\")\n",
    "println(\"Amap[xvals .== 1]\\t\\t\\t|\\t\" , Amap[real_k][xvals[real_k] .== 1.0])\n",
    "\n",
    "println(\"-----------------------------------------------------------\\n\")\n"
   ]
  },
  {
   "cell_type": "code",
   "execution_count": 4,
   "id": "d9b9fc04-03c1-430c-8270-7dc636cd571e",
   "metadata": {},
   "outputs": [],
   "source": [
    "# Commentaire \n",
    "# les problemes forms[k] pour k=3 retourne celui pour k=5 (il y a suppression de problemes)\n"
   ]
  },
  {
   "cell_type": "code",
   "execution_count": 4,
   "id": "63c53c88-c729-4076-b1e7-8a8c1d99dbae",
   "metadata": {},
   "outputs": [
    {
     "data": {
      "text/plain": [
       "retroprojection (generic function with 1 method)"
      ]
     },
     "execution_count": 4,
     "metadata": {},
     "output_type": "execute_result"
    }
   ],
   "source": [
    "## Functions\n",
    "function expand_b(Vmap, nv, b)\n",
    "    # b is the vector to expand in the sparse space of dimension nv\n",
    "    # Vmap is the index mapping to place element of b in the vector of dimension nv\n",
    "    bfull = Vector{AffExpr}(zeros(nv))\n",
    "    bfull[Vmap] .= b\n",
    "    return bfull\n",
    "end\n",
    "\n",
    "function projection(transformation::Dict, Nn)\n",
    "    NS = [[] for _ in 1:maximum(values(transformation))]\n",
    "    for i in keys(transformation)\n",
    "    \tif typeof(i)!=typeof(1)\n",
    "    \t\tj = parse(Int, i)\n",
    "    \telse\n",
    "    \t\tj=i\n",
    "    \tend\n",
    "        append!(\n",
    "                NS[transformation[i]], Nn[j]#N[parse(Int, i)]\n",
    "        )\n",
    "    end\n",
    "    \n",
    "    NT_min = [value(minimum(vec)) for vec in NS]\n",
    "    NT_avg = [value(mean(vec)) for vec in NS]\n",
    "    NT_max = [value(maximum(vec)) for vec in NS]\n",
    "    return NT_min, NT_avg, NT_max\n",
    "end\n",
    "function retroprojection(transformation::Dict, NT)\n",
    "    # transformation is a dict of the for \"i\":j\n",
    "    Nn = zeros(length(transformation))\n",
    "    for (k, v) in transformation\n",
    "    \tif typeof(k)!=typeof(1)\n",
    "    \t\tj = parse(Int, k)\n",
    "    \telse\n",
    "    \t\tj=k\n",
    "    \tend\n",
    "        Nn[j] = NT[v]\n",
    "    end\n",
    "    \n",
    "    return Nn\n",
    "end"
   ]
  },
  {
   "cell_type": "code",
   "execution_count": 5,
   "id": "099a0afb-d3d9-438d-bb37-ef53d118beb3",
   "metadata": {},
   "outputs": [
    {
     "data": {
      "text/plain": [
       "Dict{String, Any} with 12 entries:\n",
       "  \"preprocess_time\" => 1.29117\n",
       "  \"b\"               => Dict{String, Any}(\"24\"=>Any[0, -1, 0, 0, 0, 0, 0, 0, 0, …\n",
       "  \"Vmap\"            => Dict{String, Any}(\"24\"=>Any[7, 8, 9, 11, 12, 13, 14, 15,…\n",
       "  \"Amap\"            => Dict{String, Any}(\"24\"=>Any[19, 26, 33, 35, 37, 39, 40, …\n",
       "  \"id\"              => \"000001-000000-000001-g40-05-P-zip-x\"\n",
       "  \"flow\"            => Dict{String, Any}(\"24\"=>Any[39, 57, 75, 93, 105, 109, 11…\n",
       "  \"xvals\"           => Dict{String, Any}(\"24\"=>Any[0.0, 0.0, 0.0, 0.0, 0.0, 1.0…\n",
       "  \"finish\"          => true\n",
       "  \"obj_value\"       => 67585.0\n",
       "  \"λvals\"           => Dict{String, Any}(\"24\"=>Any[34.0, 0.0, 18.0, 73.0, 42.0,…\n",
       "  \"tvals\"           => Any[25.0, 34.0, 6.0, 58.0, 0.0, 38.0, 0.0, 42.0, 0.0, 83…\n",
       "  \"solve_time\"      => 8.58935"
      ]
     },
     "execution_count": 5,
     "metadata": {},
     "output_type": "execute_result"
    }
   ],
   "source": [
    "result[1]"
   ]
  },
  {
   "cell_type": "code",
   "execution_count": 21,
   "id": "3239530d-25ef-4789-be26-e89717e15566",
   "metadata": {
    "scrolled": true
   },
   "outputs": [
    {
     "data": {
      "text/plain": [
       "([6.0, 35.0, 6.0, 35.0, 12.0, 35.0, 23.0, 27.0, 23.0, 20.0  …  14.0, 13.0, 35.0, 13.0, 13.0, 35.0, 13.0, 25.0, 35.0, 25.0], [6.0, 35.0, 6.0, 35.0, 12.0, 35.0, 23.0, 27.0, 23.0, 20.0  …  14.0, 13.0, 35.0, 13.0, 13.0, 35.0, 13.0, 25.0, 35.0, 25.0], [6.0, 35.0, 6.0, 35.0, 12.0, 35.0, 23.0, 27.0, 23.0, 20.0  …  14.0, 13.0, 35.0, 13.0, 13.0, 35.0, 13.0, 25.0, 35.0, 25.0])"
      ]
     },
     "execution_count": 21,
     "metadata": {},
     "output_type": "execute_result"
    }
   ],
   "source": []
  },
  {
   "cell_type": "code",
   "execution_count": 5,
   "id": "f36f21f4-3ef9-47ae-a3d6-8e53e6047fa8",
   "metadata": {},
   "outputs": [],
   "source": [
    "# γ(A)' * λ~ <= γ(c) + γ(t) need linearize_commodity_primal_custom\n",
    "\n",
    "# (c + t)' * x <= b' * γ^-1(λ~) need linearize_commodity_primal_custom\n",
    "\n",
    "# (γ(c) + γ(t))' * x~ <= γ(b)' * λ~ need linearize_commodity_primal_custom"
   ]
  },
  {
   "cell_type": "code",
   "execution_count": null,
   "id": "03d3b990-e875-4582-b917-de89e04cdf17",
   "metadata": {
    "editable": true,
    "slideshow": {
     "slide_type": ""
    },
    "tags": []
   },
   "outputs": [],
   "source": [
    "# Il faut expand les vecteurs dans les dimensions originales\n",
    "\n",
    "# Exemple pour lambda\n",
    "nv = nodes(prob)\n",
    "fullλ = expand_b(Vmap[real_k], nv, λvals[real_k])\n",
    "\n",
    "for o in Vmap[real_k]\n",
    "    println(o, \"\\t:\",[key for (key, value) in vtrans if value == o])\n",
    "end\n",
    "retrofullλ = retroprojection(vtrans, value.(fullλ))\n",
    "\n",
    "println(\"XXXXXXXXXXXXXX\")\n",
    "\n",
    "\n",
    "# Exemple pour tvals\n",
    "na = length(arcs(prob))\n",
    "amap = axes(tvals, 1)\n",
    "for o in amap\n",
    "    println(o, \"\\t:\",[key for (key, value) in etrans if value == o])\n",
    "end\n",
    "fullt = expand_b(amap, na, tvals.data)\n",
    "# println(value.(fullt))\n",
    "tt = value.(fullt)\n",
    "indice = findall(tt -> tt > 0, tt)\n",
    "println(indice)\n",
    "\n",
    "retrofullt = retroprojection(etrans, value.(fullt))\n",
    "exl = expand_b(λvals, Vmap, 54);\n",
    "bxl = expand_b(b, Vmap, 54);\n",
    "bxl' * exl;\n",
    "# println(bxl);\n",
    "\n",
    "rb = retroprojectionN(vtrans, bxl);\n",
    "println(findfirst(x -> x == 1, rb))\n",
    "println(findfirst(x -> x == -1, rb))\n",
    "\n",
    "\n",
    "# b_min, b_avg,b_max = projection_b(vtrans, bxl);\n",
    "# println(b_min)\n",
    "# r = b_min' * ones(length(b_min))\n",
    "# r\n",
    "\n",
    "using JuMP\n",
    "using Gurobi\n",
    "import JuMP.Containers: DenseAxisArray\n",
    "\n",
    "\n",
    "# Define a JuMP model\n",
    "model = Model(Gurobi.Optimizer)\n",
    "\n",
    "# Define some variables and lists\n",
    "ra = [[1], [2, 3], [4, 6], [5], [7]] # classe\n",
    "etrans = Dict(\"1\" => 1, \"2\" => 2, \"3\" => 2, \"4\" => 3, \"5\" => 4, \"6\" => 3, \"7\" => 5)\n",
    "\n",
    "# Define the index sets and data\n",
    "N = [10, 9, 8, 7, 6, 7]\n",
    "\n",
    "\n",
    "a1 = [2, 3, 4, 6, 7]                              # indice des arcs controllés \n",
    "a1dict = Dict(a => i for (i, a) in enumerate(a1)) # mapping entre indice et indice réduit\n",
    "\n",
    "# Variable t\n",
    "@variable(model, 0 ≤ t[a=a1], upper_bound = N[a1dict[a]])\n",
    "\n",
    "\n",
    "\n",
    "\n",
    "\n",
    "c = cost_vector(prob)\n",
    "A = incidence_matrix(prob)\n",
    "b = sourcesink_vector(prob)\n",
    "\n",
    "# γ(A)' * λ~ <= γ(c) + γ(t) need linearize_commodity_primal_custom\n",
    "\n",
    "# (c + t)' * x <= b' * γ^-1(λ~) need linearize_commodity_primal_custom\n",
    "\n",
    "# (γ(c) + γ(t))' * x~ <= γ(b)' * λ~ need linearize_commodity_primal_custom\n",
    "\n",
    "# A faire une seul fois\n",
    "γa1 = []         # les indices des arcs controllés dans l'espace transformé\n",
    "γa1dict = Dict() # mapping entre indices et classes d'équivalences d'indice\n",
    "for e in ra\n",
    "    if !isempty(intersect(e, a1))\n",
    "        i = etrans[string(e[1])]\n",
    "        append!(λa1, i)\n",
    "        γa1dict[i] = e\n",
    "    end\n",
    "end\n",
    "\n",
    "# variable artificiel γt\n",
    "@variable(model, γt[a=λa1]) # pas besoin de borner voir les contraintes\n",
    "for (k,v) in γa1dict\n",
    "    @constraint(model, γt[k] == mean(t[v]))\n",
    "end\n",
    "\n",
    "\n",
    "@objective(model, Max, γt' * [1,-0.5, 2])# objective remains the same\n",
    "\n",
    "# Print the model\n",
    "optimize!(model)\n",
    "println(value.(model[:t])) \n",
    "\n",
    "# println(value.(model[:λt])) "
   ]
  },
  {
   "cell_type": "code",
   "execution_count": 2,
   "id": "e91b34d4-c9ba-420b-915d-0dbad3e9e930",
   "metadata": {},
   "outputs": [
    {
     "data": {
      "text/plain": [
       "2-element Vector{Int64}:\n",
       " 1\n",
       " 2"
      ]
     },
     "execution_count": 2,
     "metadata": {},
     "output_type": "execute_result"
    }
   ],
   "source": [
    "t = [1,2,3]\n",
    "t[[1,2]]"
   ]
  },
  {
   "cell_type": "code",
   "execution_count": 4,
   "id": "52c6b4c0-b67b-4ab8-8dfd-bff7654b336d",
   "metadata": {},
   "outputs": [
    {
     "data": {
      "text/plain": [
       "Int64[]"
      ]
     },
     "execution_count": 4,
     "metadata": {},
     "output_type": "execute_result"
    }
   ],
   "source": [
    "\n",
    "\n",
    "intersect((2,3), [1,])"
   ]
  },
  {
   "cell_type": "code",
   "execution_count": 3,
   "id": "a700eafd-0b93-40b6-8ee4-fe250c05f0c4",
   "metadata": {},
   "outputs": [
    {
     "data": {
      "text/plain": [
       "2-element Vector{AffExpr}:\n",
       " 1\n",
       " 0"
      ]
     },
     "execution_count": 3,
     "metadata": {},
     "output_type": "execute_result"
    }
   ],
   "source": [
    "b = [1,2]\n",
    "Vmap = [1,3]\n",
    "bfull = Vector{AffExpr}(zeros(3))\n",
    "bfull[Vmap] .= b\n",
    "bfull[b]"
   ]
  },
  {
   "cell_type": "code",
   "execution_count": 10,
   "id": "7d5d37cc-5206-479c-a73a-8536b16c91a5",
   "metadata": {},
   "outputs": [
    {
     "name": "stdout",
     "output_type": "stream",
     "text": [
      "1\n",
      "2\n",
      "3\n",
      "4\n",
      "5\n",
      "6\n",
      "7\n",
      "8\n",
      "9\n",
      "10\n"
     ]
    }
   ],
   "source": []
  },
  {
   "cell_type": "code",
   "execution_count": null,
   "id": "f0e3eb60-11e3-4ca8-a4c2-b4ad75ced18f",
   "metadata": {},
   "outputs": [],
   "source": []
  }
 ],
 "metadata": {
  "kernelspec": {
   "display_name": "Julia 1.10.3",
   "language": "julia",
   "name": "julia-1.10"
  },
  "language_info": {
   "file_extension": ".jl",
   "mimetype": "application/julia",
   "name": "julia",
   "version": "1.10.3"
  }
 },
 "nbformat": 4,
 "nbformat_minor": 5
}
