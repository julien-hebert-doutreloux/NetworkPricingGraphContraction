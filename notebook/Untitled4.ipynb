{
 "cells": [
  {
   "cell_type": "code",
   "execution_count": 1,
   "id": "1bb60070-0d34-43e9-a05c-888e49b38d77",
   "metadata": {},
   "outputs": [],
   "source": [
    "using Pickle, JSON, CSV, DataFrames, BenchmarkTools, Distributed, FileIO, Pickle, Unmarshal\n",
    "using NetPricing\n",
    "using JuMP\n",
    "using Gurobi"
   ]
  },
  {
   "cell_type": "code",
   "execution_count": null,
   "id": "4bc01113-50a4-42dd-aa74-bcedfd990241",
   "metadata": {},
   "outputs": [],
   "source": []
  }
 ],
 "metadata": {
  "kernelspec": {
   "display_name": "Julia 1.10.3",
   "language": "julia",
   "name": "julia-1.10"
  },
  "language_info": {
   "file_extension": ".jl",
   "mimetype": "application/julia",
   "name": "julia",
   "version": "1.10.3"
  }
 },
 "nbformat": 4,
 "nbformat_minor": 5
}
