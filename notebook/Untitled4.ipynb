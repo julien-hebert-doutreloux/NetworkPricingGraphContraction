{
 "cells": [
  {
   "cell_type": "code",
   "execution_count": 1,
   "id": "1bb60070-0d34-43e9-a05c-888e49b38d77",
   "metadata": {},
   "outputs": [],
   "source": [
    "using Pickle, JSON, CSV, DataFrames, BenchmarkTools, Distributed, FileIO, Pickle, Unmarshal\n",
    "using NetPricing\n",
    "using JuMP\n",
    "using Gurobi"
   ]
  },
  {
   "cell_type": "code",
   "execution_count": null,
   "id": "4bc01113-50a4-42dd-aa74-bcedfd990241",
   "metadata": {},
   "outputs": [],
   "source": [
    "gamma = ...\n",
    "gamma-1 = ...\n",
    "\n",
    "# parameter\n",
    "A, b, c\n",
    "# variable\n",
    "xg, λg, t, x\n",
    "\n",
    "\n",
    "\n",
    "@constraint(model, gamma(A) * xg == gamma(b))\n",
    "@constraint(model, gamma(A)' * λg <= gamma(c) + gamma(t))\n",
    "@constraint(model, (c+t)' * x <= b' * gamma-1(λg))\n",
    "@constraint(model, (gamma(c)+gamma(t))' * xg <= gamma(b)' * λg)\n",
    "\n",
    "\n",
    "\n",
    "    prob = problem(primal)\n",
    "    parentprob = parent(prob)\n",
    "\n",
    "    a1 = tolled_arcs(prob)\n",
    "    k = index(prob)\n",
    "    Amap = arcmap(prob)\n",
    "\n",
    "    x = primal.x[a1]\n",
    "    tx = @variable(model, [a=a1], lower_bound = 0, base_name=\"tx[$k]\")\n",
    "    t = remap_t(model, prob)\n",
    "\n",
    "    if isempty(tx)\n",
    "        sumtx = 0.0\n",
    "    else\n",
    "        sumtx = sum(tx)\n",
    "    end\n",
    "\n",
    "    a1dict = Dict(a => i for (i, a) in enumerate(tolled_arcs(parentprob)))\n",
    "    mapped_a1 = [a1dict[a] for a in Amap[a1]]\n",
    "    M = @view M[mapped_a1]\n",
    "    N = @view N[mapped_a1]\n",
    "\n",
    "    # Linearization\n",
    "    @constraint(model, tx .≤ M .* x)\n",
    "    @constraint(model, t .- tx .≥ 0)\n",
    "    @constraint(model, t .- tx .≤ N .* (1 .- x))\n",
    "\n",
    "    c = cost_vector(prob)\n",
    "    for ...\n",
    "        xgo = gamma-1(xg)\n",
    "        @constraint(model, c' * x + tx .≤ (c + t)' * xgo)\n",
    "    \n",
    "    # Run linearization-specific code\n",
    "    linearize_commodity_extra(linearization, primal)\n",
    "\n",
    "    return sumtx"
   ]
  }
 ],
 "metadata": {
  "kernelspec": {
   "display_name": "Julia 1.10.3",
   "language": "julia",
   "name": "julia-1.10"
  },
  "language_info": {
   "file_extension": ".jl",
   "mimetype": "application/julia",
   "name": "julia",
   "version": "1.10.3"
  }
 },
 "nbformat": 4,
 "nbformat_minor": 5
}
